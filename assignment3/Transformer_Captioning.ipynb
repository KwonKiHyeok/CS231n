jq 'del(.metadata.widgets)' notebook.ipynb > fixed_notebook.ipynb
