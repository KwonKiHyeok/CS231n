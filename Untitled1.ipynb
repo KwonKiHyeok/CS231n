{
  "nbformat": 4,
  "nbformat_minor": 0,
  "metadata": {
    "colab": {
      "provenance": [],
      "authorship_tag": "ABX9TyOtuYbzRZMPE/xTv0Bj+I9P",
      "include_colab_link": true
    },
    "kernelspec": {
      "name": "python3",
      "display_name": "Python 3"
    },
    "language_info": {
      "name": "python"
    }
  },
  "cells": [
    {
      "cell_type": "markdown",
      "metadata": {
        "id": "view-in-github",
        "colab_type": "text"
      },
      "source": [
        "<a href=\"https://colab.research.google.com/github/KwonKiHyeok/CS231n/blob/main/Untitled1.ipynb\" target=\"_parent\"><img src=\"https://colab.research.google.com/assets/colab-badge.svg\" alt=\"Open In Colab\"/></a>"
      ]
    },
    {
      "cell_type": "code",
      "execution_count": 3,
      "metadata": {
        "colab": {
          "base_uri": "https://localhost:8080/"
        },
        "id": "MyeMyJbyELXK",
        "outputId": "21390ffc-e507-476c-f1bf-0d439086058a"
      },
      "outputs": [
        {
          "output_type": "stream",
          "name": "stdout",
          "text": [
            "Mounted at /content/drive\n",
            "/content/drive/My Drive/cs231n/assignments/assignment3/cs231n/datasets\n",
            "/content/drive/My Drive/cs231n/assignments/assignment3\n"
          ]
        }
      ],
      "source": [
        "# This mounts your Google Drive to the Colab VM.\n",
        "from google.colab import drive\n",
        "drive.mount('/content/drive')\n",
        "\n",
        "# TODO: Enter the foldername in your Drive where you have saved the unzipped\n",
        "# assignment folder, e.g. 'cs231n/assignments/assignment3/'\n",
        "FOLDERNAME = 'cs231n/assignments/assignment3/'\n",
        "assert FOLDERNAME is not None, \"[!] Enter the foldername.\"\n",
        "\n",
        "# Now that we've mounted your Drive, this ensures that\n",
        "# the Python interpreter of the Colab VM can load\n",
        "# python files from within it.\n",
        "import sys\n",
        "sys.path.append('/content/drive/My Drive/{}'.format(FOLDERNAME))\n",
        "\n",
        "# This downloads the COCO dataset to your Drive\n",
        "# if it doesn't already exist.\n",
        "%cd /content/drive/My\\ Drive/$FOLDERNAME/cs231n/datasets/\n",
        "# !bash get_datasets.sh\n",
        "!bash get_coco_dataset.sh\n",
        "%cd /content/drive/My\\ Drive/$FOLDERNAME\n"
      ]
    },
    {
      "cell_type": "markdown",
      "source": [
        "# Image Captioning with Transformers\n",
        "You have now implemented a vanilla RNN and for the task of image captioning. In this notebook you will implement key pieces of a transformer decoder to accomplish the same task.\n",
        "\n",
        "**NOTE:** This notebook will be primarily written in PyTorch rather than NumPy, unlike the RNN notebook."
      ],
      "metadata": {
        "id": "P-Q-HtdbEOE0"
      }
    },
    {
      "cell_type": "code",
      "source": [
        "# Setup cell.\n",
        "import time, os, json\n",
        "import numpy as np\n",
        "import matplotlib.pyplot as plt\n",
        "\n",
        "from cs231n.gradient_check import eval_numerical_gradient, eval_numerical_gradient_array\n",
        "from cs231n.transformer_layers import *\n",
        "from cs231n.captioning_solver_transformer import CaptioningSolverTransformer\n",
        "from cs231n.classifiers.transformer import CaptioningTransformer\n",
        "from cs231n.coco_utils import load_coco_data, sample_coco_minibatch, decode_captions\n",
        "from cs231n.image_utils import image_from_url\n",
        "\n",
        "%matplotlib inline\n",
        "plt.rcParams['figure.figsize'] = (10.0, 8.0) # Set default size of plots.\n",
        "plt.rcParams['image.interpolation'] = 'nearest'\n",
        "plt.rcParams['image.cmap'] = 'gray'\n",
        "\n",
        "%load_ext autoreload\n",
        "%autoreload 2\n",
        "\n",
        "def rel_error(x, y):\n",
        "    \"\"\" returns relative error \"\"\"\n",
        "    return np.max(np.abs(x - y) / (np.maximum(1e-8, np.abs(x) + np.abs(y))))"
      ],
      "metadata": {
        "id": "dD3D4eQoEUwz"
      },
      "execution_count": null,
      "outputs": []
    },
    {
      "cell_type": "markdown",
      "source": [
        "# COCO Dataset\n",
        "As in the previous notebooks, we will use the COCO dataset for captioning."
      ],
      "metadata": {
        "id": "2498095qEWFg"
      }
    },
    {
      "cell_type": "code",
      "source": [
        "# Load COCO data from disk into a dictionary.\n",
        "data = load_coco_data(pca_features=True)\n",
        "\n",
        "# Print out all the keys and values from the data dictionary.\n",
        "for k, v in data.items():\n",
        "    if type(v) == np.ndarray:\n",
        "        print(k, type(v), v.shape, v.dtype)\n",
        "    else:\n",
        "        print(k, type(v), len(v))"
      ],
      "metadata": {
        "id": "7ryCY81yEXXU"
      },
      "execution_count": null,
      "outputs": []
    },
    {
      "cell_type": "markdown",
      "source": [
        "# Transformer\n",
        "As you have seen, RNNs are incredibly powerful but often slow to train. Further, RNNs struggle to encode long-range dependencies (though LSTMs are one way of mitigating the issue). In 2017, Vaswani et al introduced the Transformer in their paper [\"Attention Is All You Need\"](https://arxiv.org/abs/1706.03762) to a) introduce parallelism and b) allow models to learn long-range dependencies. The paper not only led to famous models like BERT and GPT in the natural language processing community, but also an explosion of interest across fields, including vision. While here we introduce the model in the context of image captioning, the idea of attention itself is much more general.\n",
        "\n"
      ],
      "metadata": {
        "id": "38pVvIayEZxq"
      }
    },
    {
      "cell_type": "markdown",
      "source": [
        "# Transformer: Multi-Headed Attention\n",
        "\n",
        "### Dot-Product Attention\n",
        "\n",
        "Recall that attention can be viewed as an operation on a query $q\\in\\mathbb{R}^d$, a set of value vectors $\\{v_1,\\dots,v_n\\}, v_i\\in\\mathbb{R}^d$, and a set of key vectors $\\{k_1,\\dots,k_n\\}, k_i \\in \\mathbb{R}^d$, specified as"
      ],
      "metadata": {
        "id": "cukCYK00EcUq"
      }
    },
    {
      "cell_type": "markdown",
      "source": [
        "\\begin{align}\n",
        "c &= \\sum_{i=1}^{n} v_i \\alpha_i \\\\\n",
        "\\alpha_i &= \\frac{\\exp(k_i^\\top q)}{\\sum_{j=1}^{n} \\exp(k_j^\\top q)} \\\\\n",
        "\\end{align}"
      ],
      "metadata": {
        "id": "7Yyl8T7MEejf"
      }
    },
    {
      "cell_type": "markdown",
      "source": [
        "where $\\alpha_i$ are frequently called the \"attention weights\", and the output $c\\in\\mathbb{R}^d$ is a correspondingly weighted average over the value vectors.\n",
        "\n",
        "### Self-Attention\n",
        "In Transformers, we perform self-attention, which means that the values, keys and query are derived from the input $X \\in \\mathbb{R}^{\\ell \\times d}$, where $\\ell$ is our sequence length. Specifically, we learn parameter matrices $V,K,Q \\in \\mathbb{R}^{d\\times d}$ to map our input $X$ as follows:"
      ],
      "metadata": {
        "id": "IDLZ3wkEEg-5"
      }
    },
    {
      "cell_type": "markdown",
      "source": [
        "\\begin{align}\n",
        "v_i = Vx_i\\ \\ i \\in \\{1,\\dots,\\ell\\}\\\\\n",
        "k_i = Kx_i\\ \\ i \\in \\{1,\\dots,\\ell\\}\\\\\n",
        "q_i = Qx_i\\ \\ i \\in \\{1,\\dots,\\ell\\}\n",
        "\\end{align}"
      ],
      "metadata": {
        "id": "K2wfKjXhEpeq"
      }
    },
    {
      "cell_type": "markdown",
      "source": [
        "### Multi-Headed Scaled Dot-Product Attention\n",
        "In the case of multi-headed attention, we learn a parameter matrix for each head, which gives the model more expressivity to attend to different parts of the input. Let $h$ be number of heads, and $Y_i$ be the attention output of head $i$. Thus we learn individual matrices $Q_i$, $K_i$ and $V_i$. To keep our overall computation the same as the single-headed case, we choose $Q_i \\in \\mathbb{R}^{d\\times d/h}$, $K_i \\in \\mathbb{R}^{d\\times d/h}$ and $V_i \\in \\mathbb{R}^{d\\times d/h}$. Adding in a scaling term $\\frac{1}{\\sqrt{d/h}}$ to our simple dot-product attention above, we have"
      ],
      "metadata": {
        "id": "2TIncXTCErYT"
      }
    },
    {
      "cell_type": "markdown",
      "source": [
        "\\begin{equation} \\label{qkv_eqn}\n",
        "Y_i = \\text{softmax}\\bigg(\\frac{(XQ_i)(XK_i)^\\top}{\\sqrt{d/h}}\\bigg)(XV_i)\n",
        "\\end{equation}"
      ],
      "metadata": {
        "id": "Ouki4UgVFMeP"
      }
    },
    {
      "cell_type": "markdown",
      "source": [
        "where $Y_i\\in\\mathbb{R}^{\\ell \\times d/h}$, where $\\ell$ is our sequence length.\n",
        "\n",
        "In our implementation, we apply dropout to the attention weights (though in practice it could be used at any step):"
      ],
      "metadata": {
        "id": "6wnbaoYXFSqr"
      }
    },
    {
      "cell_type": "markdown",
      "source": [
        "Finally, then the output of the self-attention is a linear transformation of the concatenation of the heads:"
      ],
      "metadata": {
        "id": "HBM0wcPEFWGp"
      }
    },
    {
      "cell_type": "markdown",
      "source": [
        "\\begin{equation}\n",
        "Y = [Y_1;\\dots;Y_h]A\n",
        "\\end{equation}"
      ],
      "metadata": {
        "id": "cqRWPqXvFa95"
      }
    },
    {
      "cell_type": "markdown",
      "source": [
        "were $A \\in\\mathbb{R}^{d\\times d}$ and $[Y_1;\\dots;Y_h]\\in\\mathbb{R}^{\\ell \\times d}$.\n",
        "\n",
        "Implement multi-headed scaled dot-product attention in the `MultiHeadAttention` class in the file `cs231n/transformer_layers.py`. The code below will check your implementation. The relative error should be less than `e-3`."
      ],
      "metadata": {
        "id": "6XTwxsW7Fhco"
      }
    },
    {
      "cell_type": "code",
      "source": [
        "torch.manual_seed(231)\n",
        "\n",
        "# Choose dimensions such that they are all unique for easier debugging:\n",
        "# Specifically, the following values correspond to N=1, H=2, T=3, E//H=4, and E=8.\n",
        "batch_size = 1\n",
        "sequence_length = 3\n",
        "embed_dim = 8\n",
        "attn = MultiHeadAttention(embed_dim, num_heads=2)\n",
        "\n",
        "# Self-attention.\n",
        "data = torch.randn(batch_size, sequence_length, embed_dim)\n",
        "self_attn_output = attn(query=data, key=data, value=data)\n",
        "\n",
        "# Masked self-attention.\n",
        "mask = torch.randn(sequence_length, sequence_length) < 0.5\n",
        "masked_self_attn_output = attn(query=data, key=data, value=data, attn_mask=mask)\n",
        "\n",
        "# Attention using two inputs.\n",
        "other_data = torch.randn(batch_size, sequence_length, embed_dim)\n",
        "attn_output = attn(query=data, key=other_data, value=other_data)\n",
        "\n",
        "expected_self_attn_output = np.asarray([[\n",
        "[-0.2494,  0.1396,  0.4323, -0.2411, -0.1547,  0.2329, -0.1936,\n",
        "          -0.1444],\n",
        "         [-0.1997,  0.1746,  0.7377, -0.3549, -0.2657,  0.2693, -0.2541,\n",
        "          -0.2476],\n",
        "         [-0.0625,  0.1503,  0.7572, -0.3974, -0.1681,  0.2168, -0.2478,\n",
        "          -0.3038]]])\n",
        "\n",
        "expected_masked_self_attn_output = np.asarray([[\n",
        "[-0.1347,  0.1934,  0.8628, -0.4903, -0.2614,  0.2798, -0.2586,\n",
        "          -0.3019],\n",
        "         [-0.1013,  0.3111,  0.5783, -0.3248, -0.3842,  0.1482, -0.3628,\n",
        "          -0.1496],\n",
        "         [-0.2071,  0.1669,  0.7097, -0.3152, -0.3136,  0.2520, -0.2774,\n",
        "          -0.2208]]])\n",
        "\n",
        "expected_attn_output = np.asarray([[\n",
        "[-0.1980,  0.4083,  0.1968, -0.3477,  0.0321,  0.4258, -0.8972,\n",
        "          -0.2744],\n",
        "         [-0.1603,  0.4155,  0.2295, -0.3485, -0.0341,  0.3929, -0.8248,\n",
        "          -0.2767],\n",
        "         [-0.0908,  0.4113,  0.3017, -0.3539, -0.1020,  0.3784, -0.7189,\n",
        "          -0.2912]]])\n",
        "\n",
        "print('self_attn_output error: ', rel_error(expected_self_attn_output, self_attn_output.detach().numpy()))\n",
        "print('masked_self_attn_output error: ', rel_error(expected_masked_self_attn_output, masked_self_attn_output.detach().numpy()))\n",
        "print('attn_output error: ', rel_error(expected_attn_output, attn_output.detach().numpy()))"
      ],
      "metadata": {
        "id": "LKo3J1Q6Fi5Z"
      },
      "execution_count": null,
      "outputs": []
    },
    {
      "cell_type": "markdown",
      "source": [
        "# Positional Encoding\n",
        "\n",
        "While transformers are able to easily attend to any part of their input, the attention mechanism has no concept of token order. However, for many tasks (especially natural language processing), relative token order is very important. To recover this, the authors add a positional encoding to the embeddings of individual word tokens.\n",
        "\n",
        "Let us define a matrix $P \\in \\mathbb{R}^{l\\times d}$, where $P_{ij} = $"
      ],
      "metadata": {
        "id": "2pMx5mJ1FwdV"
      }
    },
    {
      "cell_type": "markdown",
      "source": [
        "$$\n",
        "\\begin{cases}\n",
        "\\text{sin}\\left(i \\cdot 10000^{-\\frac{j}{d}}\\right) & \\text{if j is even} \\\\\n",
        "\\text{cos}\\left(i \\cdot 10000^{-\\frac{(j-1)}{d}}\\right) & \\text{otherwise} \\\\\n",
        "\\end{cases}\n",
        "$$"
      ],
      "metadata": {
        "id": "KFM0baqbFyge"
      }
    },
    {
      "cell_type": "markdown",
      "source": [
        "Rather than directly passing an input $X \\in \\mathbb{R}^{l\\times d}$ to our network, we instead pass $X + P$.\n",
        "\n",
        "Implement this layer in `PositionalEncoding` in `cs231n/transformer_layers.py`. Once you are done, run the following to perform a simple test of your implementation. You should see errors on the order of `e-3` or less."
      ],
      "metadata": {
        "id": "hZ6PFAxLF02V"
      }
    },
    {
      "cell_type": "code",
      "source": [
        "torch.manual_seed(231)\n",
        "\n",
        "batch_size = 1\n",
        "sequence_length = 2\n",
        "embed_dim = 6\n",
        "data = torch.randn(batch_size, sequence_length, embed_dim)\n",
        "\n",
        "pos_encoder = PositionalEncoding(embed_dim)\n",
        "output = pos_encoder(data)\n",
        "\n",
        "expected_pe_output = np.asarray([[[-1.2340,  1.1127,  1.6978, -0.0865, -0.0000,  1.2728],\n",
        "                                  [ 0.9028, -0.4781,  0.5535,  0.8133,  1.2644,  1.7034]]])\n",
        "\n",
        "print('pe_output error: ', rel_error(expected_pe_output, output.detach().numpy()))"
      ],
      "metadata": {
        "id": "TEeqjISOF15o"
      },
      "execution_count": null,
      "outputs": []
    },
    {
      "cell_type": "markdown",
      "source": [
        "# Inline Question 1\n",
        "\n",
        "Several key design decisions were made in designing the scaled dot product attention we introduced above. Explain why the following choices were beneficial:\n",
        "1. Using multiple attention heads as opposed to one.\n",
        "2. Dividing by $\\sqrt{d/h}$ before applying the softmax function. Recall that $d$ is the feature dimension and $h$ is the number of heads.\n",
        "3. Adding a linear transformation to the output of the attention operation.\n",
        "\n",
        "Only one or two sentences per choice is necessary, but be sure to be specific in addressing what would have happened without each given implementation detail, why such a situation would be suboptimal, and how the proposed implementation improves the situation.\n",
        "\n",
        "**Your Answer:**\n",
        "\n",
        "1. **Using multiple attention heads as opposed to one** <br>\n",
        "Using multiple attention heads allows the model to capture various relationships between different positions in parallel. A single head can only focus on one type of relationship, which limits the representational capacity, whereas multiple heads can simultaneously attend to different aspects such as context, syntactic structure, and semantic associations, resulting in richer representations.\n",
        "\n",
        "2. **Dividing by 𝑑 / ℎ before applying the softmax function** <br>\n",
        "The dot product between queries and keys can produce large variance when the feature dimension is high, which may lead the softmax output to become extremely small or biased. Dividing by 𝑑 / ℎ normalizes the scale of the scores, stabilizes the variance, and ensures that the softmax yields well-behaved gradients for effective and stable learning.\n",
        "\n",
        "3. **Adding a linear transformation to the output of the attention operation** <br>\n",
        "Simply concatenating the outputs from multiple heads results in disjoint subspace representations that lack meaningful integration. A linear transformation projects these concatenated outputs into a unified space, allowing the model to form coherent and task-relevant representations."
      ],
      "metadata": {
        "id": "VfbT4t3AF38S"
      }
    },
    {
      "cell_type": "markdown",
      "source": [
        "# Transformer Decoder Block\n",
        "\n",
        "Transformer decoder layer consists of three modules: (1) self attention to process input sequence of vectors, (2) cross attention to process based on available context (i.e. image features in our case), (3) feedforward module to process each vector of the sequence independently. Complete the implementation of `TransformerDecoderLayer` in `cs231n/transformer_layers.py` and test it below. The relative error should be less than 1e-6.\n",
        "\n",
        "The Transformer decoder layer has three main components: (1) a self-attention module that processes the input sequence of vectors, (2) a cross-attention module that incorporates additional context (e.g., image features in our case), and (3) a feedforward module that independently processes each vector in the sequence. Complete the implementation of `TransformerDecoderLayer` in `cs231n/transformer_layers.py` and test it below. The relative error should be less than 1e-6."
      ],
      "metadata": {
        "id": "_2oaxMHWF5zm"
      }
    },
    {
      "cell_type": "code",
      "source": [
        "torch.manual_seed(231)\n",
        "np.random.seed(231)\n",
        "\n",
        "N, T, TM, D = 1, 4, 5, 12\n",
        "\n",
        "decoder_layer = TransformerDecoderLayer(D, 2, 4*D)\n",
        "tgt = torch.randn(N, T, D)\n",
        "memory = torch.randn(N, TM, D)\n",
        "tgt_mask = torch.randn(T, T) < 0.5\n",
        "\n",
        "output = decoder_layer(tgt, memory, tgt_mask)\n",
        "\n",
        "expected_output = np.asarray([\n",
        "    [[ 1.1464597, -0.32541496,  0.39171425, -0.39425734,  0.62471056,\n",
        "      -1.8665842, -0.12977494, -1.6609063, -0.5620399,  0.45006236,\n",
        "       1.6086785,  0.7173523],\n",
        "     [-0.6703264,  0.34731007, -0.01452054, -0.0500976,  0.9617562,\n",
        "      -0.91788256,  0.5138556, -1.5247818,  2.0940537, -1.0386938,\n",
        "       1.0333964, -0.7340692],\n",
        "     [-1.1966342,  0.78882384,  0.1765188,  0.04164891,  1.9480462,\n",
        "      -0.94358695,  0.83423877, -0.44660965,  1.1469632, -1.6658922,\n",
        "      -0.27915588, -0.4043607],\n",
        "     [-0.96863323,  0.10736976, -0.18560877, -0.86474127, -0.12873,\n",
        "       0.36593518,  0.9634492, -0.9432319,  1.4652547,  1.2200648,\n",
        "       0.9218512, -1.9529796]]\n",
        "])\n",
        "print('error: ', rel_error(expected_output, output.detach().numpy()))"
      ],
      "metadata": {
        "id": "L8MDFs9bF6nB"
      },
      "execution_count": null,
      "outputs": []
    },
    {
      "cell_type": "markdown",
      "source": [
        "# Transformer for Image Captioning\n",
        "Now that you have implemented the previous layers, you can combine them to build a Transformer-based image captioning model. Open the file `cs231n/classifiers/transformer.py` and look at the `CaptioningTransformer` class.\n",
        "\n",
        "Implement the `forward` function of the class. After doing so, run the following to check your forward pass using a small test case; you should see error on the order of `e-5` or less."
      ],
      "metadata": {
        "id": "bDXClMrIF8oK"
      }
    },
    {
      "cell_type": "code",
      "source": [
        "torch.manual_seed(231)\n",
        "np.random.seed(231)\n",
        "\n",
        "N, D, W = 4, 20, 30\n",
        "word_to_idx = {'<NULL>': 0, 'cat': 2, 'dog': 3}\n",
        "V = len(word_to_idx)\n",
        "T = 3\n",
        "\n",
        "transformer = CaptioningTransformer(\n",
        "    word_to_idx,\n",
        "    input_dim=D,\n",
        "    wordvec_dim=W,\n",
        "    num_heads=2,\n",
        "    num_layers=2,\n",
        "    max_length=30\n",
        ")\n",
        "\n",
        "features = torch.randn(N, D)\n",
        "captions = torch.randint(0, V, (N, T))\n",
        "\n",
        "scores = transformer(features, captions)\n",
        "expected_scores = np.asarray([\n",
        "    [[ 0.48119992, -0.24859881, -0.7489549 ],\n",
        "     [ 0.20380056,  0.08959456, -0.89954275],\n",
        "     [ 0.21135767, -0.17083111, -0.62508506]],\n",
        "\n",
        "    [[ 0.49413955, -0.50489324, -0.79341394],\n",
        "     [ 0.87452495, -0.4392967 , -1.1513498 ],\n",
        "     [ 0.2547267 , -0.26321974, -0.93643296]],\n",
        "\n",
        "    [[ 0.70437765, -0.5729916 , -0.7946507 ],\n",
        "     [ 0.18345363, -0.31752932, -1.7304884 ],\n",
        "     [ 0.61473167, -0.82634443, -1.2179294 ]],\n",
        "\n",
        "    [[ 0.5163983 , -0.7899667 , -1.0383208 ],\n",
        "     [ 0.28063023, -0.3603301 , -1.5435203 ],\n",
        "     [ 0.7222998 , -0.71457165, -0.76669186]]\n",
        "])\n",
        "\n",
        "print('scores error: ', rel_error(expected_scores, scores.detach().numpy()))"
      ],
      "metadata": {
        "id": "f9Cx5eIJF9vF"
      },
      "execution_count": null,
      "outputs": []
    },
    {
      "cell_type": "markdown",
      "source": [
        "# Overfit Transformer Captioning Model on Small Data\n",
        "Run the following to overfit the Transformer-based captioning model on the same small dataset as we used for the RNN previously."
      ],
      "metadata": {
        "id": "cNtXZUHZF_Zt"
      }
    },
    {
      "cell_type": "code",
      "source": [
        "torch.manual_seed(231)\n",
        "np.random.seed(231)\n",
        "\n",
        "data = load_coco_data(max_train=50)\n",
        "\n",
        "transformer = CaptioningTransformer(\n",
        "          word_to_idx=data['word_to_idx'],\n",
        "          input_dim=data['train_features'].shape[1],\n",
        "          wordvec_dim=256,\n",
        "          num_heads=2,\n",
        "          num_layers=2,\n",
        "          max_length=30\n",
        "        )\n",
        "\n",
        "\n",
        "transformer_solver = CaptioningSolverTransformer(transformer, data, idx_to_word=data['idx_to_word'],\n",
        "           num_epochs=100,\n",
        "           batch_size=25,\n",
        "           learning_rate=0.001,\n",
        "           verbose=True, print_every=10,\n",
        "         )\n",
        "\n",
        "transformer_solver.train()\n",
        "\n",
        "# Plot the training losses.\n",
        "plt.plot(transformer_solver.loss_history)\n",
        "plt.xlabel('Iteration')\n",
        "plt.ylabel('Loss')\n",
        "plt.title('Training loss history')\n",
        "plt.show()"
      ],
      "metadata": {
        "id": "FDU1sEH1GAdy"
      },
      "execution_count": null,
      "outputs": []
    },
    {
      "cell_type": "markdown",
      "source": [
        "Print final training loss. You should see a final loss of less than 0.05 ."
      ],
      "metadata": {
        "id": "iQG-K9-DGCnK"
      }
    },
    {
      "cell_type": "code",
      "source": [
        "print('Final loss: ', transformer_solver.loss_history[-1])"
      ],
      "metadata": {
        "id": "zUXEC3PVGFFm"
      },
      "execution_count": null,
      "outputs": []
    },
    {
      "cell_type": "markdown",
      "source": [
        "# Transformer Sampling at Test Time\n",
        "The sampling code has been written for you. You can simply run the following to compare with the previous results with the RNN. As before the training results should be much better than the validation set results, given how little data we trained on."
      ],
      "metadata": {
        "id": "gs-ev9arGJHS"
      }
    },
    {
      "cell_type": "code",
      "source": [
        "# If you get an error, the URL just no longer exists, so don't worry!\n",
        "# You can re-sample as many times as you want.\n",
        "for split in ['train', 'val']:\n",
        "    minibatch = sample_coco_minibatch(data, split=split, batch_size=2)\n",
        "    gt_captions, features, urls = minibatch\n",
        "    gt_captions = decode_captions(gt_captions, data['idx_to_word'])\n",
        "\n",
        "    sample_captions = transformer.sample(features, max_length=30)\n",
        "    sample_captions = decode_captions(sample_captions, data['idx_to_word'])\n",
        "\n",
        "    for gt_caption, sample_caption, url in zip(gt_captions, sample_captions, urls):\n",
        "        img = image_from_url(url)\n",
        "        # Skip missing URLs.\n",
        "        if img is None: continue\n",
        "        plt.imshow(img)\n",
        "        plt.title('%s\\n%s\\nGT:%s' % (split, sample_caption, gt_caption))\n",
        "        plt.axis('off')\n",
        "        plt.show()"
      ],
      "metadata": {
        "id": "FTKkZLubGKKF"
      },
      "execution_count": null,
      "outputs": []
    }
  ]
}