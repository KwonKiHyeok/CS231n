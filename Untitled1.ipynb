{
  "nbformat": 4,
  "nbformat_minor": 0,
  "metadata": {
    "colab": {
      "provenance": [],
      "gpuType": "T4",ㅊ
      "authorship_tag": "ABX9TyONTL2mqIds1y7cYODjiwLQ",
      "include_colab_link": true
    },
   "outputs": [],
    "kernelspec": {
      "name": "python3",
      "display_name": "Python 3"
    },
    "language_info": {
      "name": "python"
    },
    "accelerator": "GPU",
    "widgets": {
      "application/vnd.jupyter.widget-state+json": {
        "8b3b49c50bae46a69b199fe9d4125e1f": {
          "model_module": "@jupyter-widgets/controls",
          "model_name": "HBoxModel",
          "model_module_version": "1.5.0",
          "state": { },
        "0d4a4b6be21a4cc7a4ae554aa735fc7e": {
          "model_module": "@jupyter-widgets/controls",
          "model_name": "HTMLModel",
          "model_module_version": "1.5.0",
          "state": {
            "_dom_classes": [],
            "_model_module": "@jupyter-widgets/controls",
            "_model_module_version": "1.5.0",
            "_model_name": "HTMLModel",
            "_view_count": null,
            "_view_module": "@jupyter-widgets/controls",
            "_view_module_version": "1.5.0",
            "_view_name": "HTMLView",
            "description": "",
            "description_tooltip": null,
            "layout": "IPY_MODEL_5157c276d27c4965aef3aaf6429947f6",
            "placeholder": "​",
            "style": "IPY_MODEL_82c1a1a2f8be4043907aaa5cd2e7d1e0",
            "value": "Train Epoch: [0/2] Loss: 1.8590 ACC@1: 0.318%: 100%"
          }
        },
        "4bb1ce187ed2471d8235fb117b5cce7b": {
          "model_module": "@jupyter-widgets/controls",
          "model_name": "FloatProgressModel",
          "model_module_version": "1.5.0",
          "state": {
            "_dom_classes": [],
            "_model_module": "@jupyter-widgets/controls",
            "_model_module_version": "1.5.0",
            "_model_name": "FloatProgressModel",
            "_view_count": null,
            "_view_module": "@jupyter-widgets/controls",
            "_view_module_version": "1.5.0",
            "_view_name": "ProgressView",
            "bar_style": "success",
            "description": "",
            "description_tooltip": null,
            "layout": "IPY_MODEL_53bc9f05ca664d4690ad73c9eca064e9",
            "max": 782,
            "min": 0,
            "orientation": "horizontal",
            "style": "IPY_MODEL_bc7b0d381a5849d6bc1f81a501aaa2ab",
            "value": 782
          }
        },
        "f2c7e243ad9d4e6ba85b5e5bf3527f2f": {
          "model_module": "@jupyter-widgets/controls",
          "model_name": "HTMLModel",
          "model_module_version": "1.5.0",
          "state": {
            "_dom_classes": [],
            "_model_module": "@jupyter-widgets/controls",
            "_model_module_version": "1.5.0",
            "_model_name": "HTMLModel",
            "_view_count": null,
            "_view_module": "@jupyter-widgets/controls",
            "_view_module_version": "1.5.0",
            "_view_name": "HTMLView",
            "description": "",
            "description_tooltip": null,
            "layout": "IPY_MODEL_ea7f86f1d6c14498a531dd01699dd763",
            "placeholder": "​",
            "style": "IPY_MODEL_dc13cb370ce04fd0b9f3fb98fb7e0c84",
            "value": " 782/782 [00:26&lt;00:00, 33.74it/s]"
          }
        },
        "b317b0e2fcd945a5b30c0fd4abff8636": {
          "model_module": "@jupyter-widgets/base",
          "model_name": "LayoutModel",
          "model_module_version": "1.2.0",
          "state": {
            "_model_module": "@jupyter-widgets/base",
            "_model_module_version": "1.2.0",
            "_model_name": "LayoutModel",
            "_view_count": null,
            "_view_module": "@jupyter-widgets/base",
            "_view_module_version": "1.2.0",
            "_view_name": "LayoutView",
            "align_content": null,
            "align_items": null,
            "align_self": null,
            "border": null,
            "bottom": null,
            "display": null,
            "flex": null,
            "flex_flow": null,
            "grid_area": null,
            "grid_auto_columns": null,
            "grid_auto_flow": null,
            "grid_auto_rows": null,
            "grid_column": null,
            "grid_gap": null,
            "grid_row": null,
            "grid_template_areas": null,
            "grid_template_columns": null,
            "grid_template_rows": null,
            "height": null,
            "justify_content": null,
            "justify_items": null,
            "left": null,
            "margin": null,
            "max_height": null,
            "max_width": null,
            "min_height": null,
            "min_width": null,
            "object_fit": null,
            "object_position": null,
            "order": null,
            "overflow": null,
            "overflow_x": null,
            "overflow_y": null,
            "padding": null,
            "right": null,
            "top": null,
            "visibility": null,
            "width": null
          }
        },
        "5157c276d27c4965aef3aaf6429947f6": {
          "model_module": "@jupyter-widgets/base",
          "model_name": "LayoutModel",
          "model_module_version": "1.2.0",
          "state": {
            "_model_module": "@jupyter-widgets/base",
            "_model_module_version": "1.2.0",
            "_model_name": "LayoutModel",
            "_view_count": null,
            "_view_module": "@jupyter-widgets/base",
            "_view_module_version": "1.2.0",
            "_view_name": "LayoutView",
            "align_content": null,
            "align_items": null,
            "align_self": null,
            "border": null,
            "bottom": null,
            "display": null,
            "flex": null,
            "flex_flow": null,
            "grid_area": null,
            "grid_auto_columns": null,
            "grid_auto_flow": null,
            "grid_auto_rows": null,
            "grid_column": null,
            "grid_gap": null,
            "grid_row": null,
            "grid_template_areas": null,
            "grid_template_columns": null,
            "grid_template_rows": null,
            "height": null,
            "justify_content": null,
            "justify_items": null,
            "left": null,
            "margin": null,
            "max_height": null,
            "max_width": null,
            "min_height": null,
            "min_width": null,
            "object_fit": null,
            "object_position": null,
            "order": null,
            "overflow": null,
            "overflow_x": null,
            "overflow_y": null,
            "padding": null,
            "right": null,
            "top": null,
            "visibility": null,
            "width": null
          }
        },
        "82c1a1a2f8be4043907aaa5cd2e7d1e0": {
          "model_module": "@jupyter-widgets/controls",
          "model_name": "DescriptionStyleModel",
          "model_module_version": "1.5.0",
          "state": {
            "_model_module": "@jupyter-widgets/controls",
            "_model_module_version": "1.5.0",
            "_model_name": "DescriptionStyleModel",
            "_view_count": null,
            "_view_module": "@jupyter-widgets/base",
            "_view_module_version": "1.2.0",
            "_view_name": "StyleView",
            "description_width": ""
          }
        },
        "53bc9f05ca664d4690ad73c9eca064e9": {
          "model_module": "@jupyter-widgets/base",
          "model_name": "LayoutModel",
          "model_module_version": "1.2.0",
          "state": {
            "_model_module": "@jupyter-widgets/base",
            "_model_module_version": "1.2.0",
            "_model_name": "LayoutModel",
            "_view_count": null,
            "_view_module": "@jupyter-widgets/base",
            "_view_module_version": "1.2.0",
            "_view_name": "LayoutView",
            "align_content": null,
            "align_items": null,
            "align_self": null,
            "border": null,
            "bottom": null,
            "display": null,
            "flex": null,
            "flex_flow": null,
            "grid_area": null,
            "grid_auto_columns": null,
            "grid_auto_flow": null,
            "grid_auto_rows": null,
            "grid_column": null,
            "grid_gap": null,
            "grid_row": null,
            "grid_template_areas": null,
            "grid_template_columns": null,
            "grid_template_rows": null,
            "height": null,
            "justify_content": null,
            "justify_items": null,
            "left": null,
            "margin": null,
            "max_height": null,
            "max_width": null,
            "min_height": null,
            "min_width": null,
            "object_fit": null,
            "object_position": null,
            "order": null,
            "overflow": null,
            "overflow_x": null,
            "overflow_y": null,
            "padding": null,
            "right": null,
            "top": null,
            "visibility": null,
            "width": null
          }
        },
        "state": {}
        "bc7b0d381a5849d6bc1f81a501aaa2ab": {
          "model_module": "@jupyter-widgets/controls",
          "model_name": "ProgressStyleModel",
          "model_module_version": "1.5.0",
          "state": {
            "_model_module": "@jupyter-widgets/controls",
            "_model_module_version": "1.5.0",
            "_model_name": "ProgressStyleModel",
            "_view_count": null,
            "_view_module": "@jupyter-widgets/base",
            "_view_module_version": "1.2.0",
            "_view_name": "StyleView",
            "bar_color": null,
            "description_width": ""
          }
        },
        "ea7f86f1d6c14498a531dd01699dd763": {
          "model_module": "@jupyter-widgets/base",
          "model_name": "LayoutModel",
          "model_module_version": "1.2.0",
          "state": {
            "_model_module": "@jupyter-widgets/base",
            "_model_module_version": "1.2.0",
            "_model_name": "LayoutModel",
            "_view_count": null,
            "_view_module": "@jupyter-widgets/base",
            "_view_module_version": "1.2.0",
            "_view_name": "LayoutView",
            "align_content": null,
            "align_items": null,
            "align_self": null,
            "border": null,
            "bottom": null,
            "display": null,
            "flex": null,
            "flex_flow": null,
            "grid_area": null,
            "grid_auto_columns": null,
            "grid_auto_flow": null,
            "grid_auto_rows": null,
            "grid_column": null,
            "grid_gap": null,
            "grid_row": null,
            "grid_template_areas": null,
            "grid_template_columns": null,
            "grid_template_rows": null,
            "height": null,
            "justify_content": null,
            "justify_items": null,
            "left": null,
            "margin": null,
            "max_height": null,
            "max_width": null,
            "min_height": null,
            "min_width": null,
            "object_fit": null,
            "object_position": null,
            "order": null,
            "overflow": null,
            "overflow_x": null,
            "overflow_y": null,
            "padding": null,
            "right": null,
            "top": null,
            "visibility": null,
            "width": null
          }
        },
        "dc13cb370ce04fd0b9f3fb98fb7e0c84": {
          "model_module": "@jupyter-widgets/controls",
          "model_name": "DescriptionStyleModel",
          "model_module_version": "1.5.0",
          "state": {
            "_model_module": "@jupyter-widgets/controls",
            "_model_module_version": "1.5.0",
            "_model_name": "DescriptionStyleModel",
            "_view_count": null,
            "_view_module": "@jupyter-widgets/base",
            "_view_module_version": "1.2.0",
            "_view_name": "StyleView",
            "description_width": ""
          }
        },
        "3612437e96534703953bbfb7d68c69b8": {
          "model_module": "@jupyter-widgets/controls",
          "model_name": "HBoxModel",
          "model_module_version": "1.5.0",
          "state": {
            "_dom_classes": [],
            "_model_module": "@jupyter-widgets/controls",
            "_model_module_version": "1.5.0",
            "_model_name": "HBoxModel",
            "_view_count": null,
            "_view_module": "@jupyter-widgets/controls",
            "_view_module_version": "1.5.0",
            "_view_name": "HBoxView",
            "box_style": "",
            "children": [
              "IPY_MODEL_a5340cbe2127492ebe3ca3cbcf368451",
              "IPY_MODEL_87fc9d9a68a14010806ae46a4bad1b75",
              "IPY_MODEL_6a5d6f5ec7b1473791b28c0fc0c6d33f"
            ],
            "layout": "IPY_MODEL_2367e13dccaf4bcba08e9a1b3840b46e"
          }
        },
        "a5340cbe2127492ebe3ca3cbcf368451": {
          "model_module": "@jupyter-widgets/controls",
          "model_name": "HTMLModel",
          "model_module_version": "1.5.0",
          "state": {
            "_dom_classes": [],
            "_model_module": "@jupyter-widgets/controls",
            "_model_module_version": "1.5.0",
            "_model_name": "HTMLModel",
            "_view_count": null,
            "_view_module": "@jupyter-widgets/controls",
            "_view_module_version": "1.5.0",
            "_view_name": "HTMLView",
            "description": "",
            "description_tooltip": null,
            "layout": "IPY_MODEL_c4e71a3a149e49c0b2dd9c15dd046184",
            "placeholder": "​",
            "style": "IPY_MODEL_faac5be963db48a1a8df2c559d8a2b5a",
            "value": "Test Epoch: [0/2] Loss: 1.6750 ACC@1: 0.399%: 100%"
          }
        },
        "87fc9d9a68a14010806ae46a4bad1b75": {
          "model_module": "@jupyter-widgets/controls",
          "model_name": "FloatProgressModel",
          "model_module_version": "1.5.0",
          "state": {
            "_dom_classes": [],
            "_model_module": "@jupyter-widgets/controls",
            "_model_module_version": "1.5.0",
            "_model_name": "FloatProgressModel",
            "_view_count": null,
            "_view_module": "@jupyter-widgets/controls",
            "_view_module_version": "1.5.0",
            "_view_name": "ProgressView",
            "bar_style": "success",
            "description": "",
            "description_tooltip": null,
            "layout": "IPY_MODEL_65a7377682d4485d93f7588373424dc6",
            "max": 157,
            "min": 0,
            "orientation": "horizontal",
            "style": "IPY_MODEL_bd75ab3db6514dc4af7563fb400e99b7",
            "value": 157
          }
        },
        "6a5d6f5ec7b1473791b28c0fc0c6d33f": {
          "model_module": "@jupyter-widgets/controls",
          "model_name": "HTMLModel",
          "model_module_version": "1.5.0",
          "state": {
            "_dom_classes": [],
            "_model_module": "@jupyter-widgets/controls",
            "_model_module_version": "1.5.0",
            "_model_name": "HTMLModel",
            "_view_count": null,
            "_view_module": "@jupyter-widgets/controls",
            "_view_module_version": "1.5.0",
            "_view_name": "HTMLView",
            "description": "",
            "description_tooltip": null,
            "layout": "IPY_MODEL_d5cb220fde6a4e24a6d9d418b7d098a3",
            "placeholder": "​",
            "style": "IPY_MODEL_cf972de7bd604cb1949c3766bb7ac7e4",
            "value": " 157/157 [00:02&lt;00:00, 67.35it/s]"
          }
        },
        "2367e13dccaf4bcba08e9a1b3840b46e": {
          "model_module": "@jupyter-widgets/base",
          "model_name": "LayoutModel",
          "model_module_version": "1.2.0",
          "state": {
            "_model_module": "@jupyter-widgets/base",
            "_model_module_version": "1.2.0",
            "_model_name": "LayoutModel",
            "_view_count": null,
            "_view_module": "@jupyter-widgets/base",
            "_view_module_version": "1.2.0",
            "_view_name": "LayoutView",
            "align_content": null,
            "align_items": null,
            "align_self": null,
            "border": null,
            "bottom": null,
            "display": null,
            "flex": null,
            "flex_flow": null,
            "grid_area": null,
            "grid_auto_columns": null,
            "grid_auto_flow": null,
            "grid_auto_rows": null,
            "grid_column": null,
            "grid_gap": null,
            "grid_row": null,
            "grid_template_areas": null,
            "grid_template_columns": null,
            "grid_template_rows": null,
            "height": null,
            "justify_content": null,
            "justify_items": null,
            "left": null,
            "margin": null,
            "max_height": null,
            "max_width": null,
            "min_height": null,
            "min_width": null,
            "object_fit": null,
            "object_position": null,
            "order": null,
            "overflow": null,
            "overflow_x": null,
            "overflow_y": null,
            "padding": null,
            "right": null,
            "top": null,
            "visibility": null,
            "width": null
          }
        },
        "c4e71a3a149e49c0b2dd9c15dd046184": {
          "model_module": "@jupyter-widgets/base",
          "model_name": "LayoutModel",
          "model_module_version": "1.2.0",
          "state": {
            "_model_module": "@jupyter-widgets/base",
            "_model_module_version": "1.2.0",
            "_model_name": "LayoutModel",
            "_view_count": null,
            "_view_module": "@jupyter-widgets/base",
            "_view_module_version": "1.2.0",
            "_view_name": "LayoutView",
            "align_content": null,
            "align_items": null,
            "align_self": null,
            "border": null,
            "bottom": null,
            "display": null,
            "flex": null,
            "flex_flow": null,
            "grid_area": null,
            "grid_auto_columns": null,
            "grid_auto_flow": null,
            "grid_auto_rows": null,
            "grid_column": null,
            "grid_gap": null,
            "grid_row": null,
            "grid_template_areas": null,
            "grid_template_columns": null,
            "grid_template_rows": null,
            "height": null,
            "justify_content": null,
            "justify_items": null,
            "left": null,
            "margin": null,
            "max_height": null,
            "max_width": null,
            "min_height": null,
            "min_width": null,
            "object_fit": null,
            "object_position": null,
            "order": null,
            "overflow": null,
            "overflow_x": null,
            "overflow_y": null,
            "padding": null,
            "right": null,
            "top": null,
            "visibility": null,
            "width": null
          }
        },
        "faac5be963db48a1a8df2c559d8a2b5a": {
          "model_module": "@jupyter-widgets/controls",
          "model_name": "DescriptionStyleModel",
          "model_module_version": "1.5.0",
          "state": {
            "_model_module": "@jupyter-widgets/controls",
            "_model_module_version": "1.5.0",
            "_model_name": "DescriptionStyleModel",
            "_view_count": null,
            "_view_module": "@jupyter-widgets/base",
            "_view_module_version": "1.2.0",
            "_view_name": "StyleView",
            "description_width": ""
          }
        },
        "65a7377682d4485d93f7588373424dc6": {
          "model_module": "@jupyter-widgets/base",
          "model_name": "LayoutModel",
          "model_module_version": "1.2.0",
          "state": {
            "_model_module": "@jupyter-widgets/base",
            "_model_module_version": "1.2.0",
            "_model_name": "LayoutModel",
            "_view_count": null,
            "_view_module": "@jupyter-widgets/base",
            "_view_module_version": "1.2.0",
            "_view_name": "LayoutView",
            "align_content": null,
            "align_items": null,
            "align_self": null,
            "border": null,
            "bottom": null,
            "display": null,
            "flex": null,
            "flex_flow": null,
            "grid_area": null,
            "grid_auto_columns": null,
            "grid_auto_flow": null,
            "grid_auto_rows": null,
            "grid_column": null,
            "grid_gap": null,
            "grid_row": null,
            "grid_template_areas": null,
            "grid_template_columns": null,
            "grid_template_rows": null,
            "height": null,
            "justify_content": null,
            "justify_items": null,
            "left": null,
            "margin": null,
            "max_height": null,
            "max_width": null,
            "min_height": null,
            "min_width": null,
            "object_fit": null,
            "object_position": null,
            "order": null,
            "overflow": null,
            "overflow_x": null,
            "overflow_y": null,
            "padding": null,
            "right": null,
            "top": null,
            "visibility": null,
            "width": null
          }
        },
        "bd75ab3db6514dc4af7563fb400e99b7": {
          "model_module": "@jupyter-widgets/controls",
          "model_name": "ProgressStyleModel",
          "model_module_version": "1.5.0",
          "state": {
            "_model_module": "@jupyter-widgets/controls",
            "_model_module_version": "1.5.0",
            "_model_name": "ProgressStyleModel",
            "_view_count": null,
            "_view_module": "@jupyter-widgets/base",
            "_view_module_version": "1.2.0",
            "_view_name": "StyleView",
            "bar_color": null,
            "description_width": ""
          }
        },
        "d5cb220fde6a4e24a6d9d418b7d098a3": {
          "model_module": "@jupyter-widgets/base",
          "model_name": "LayoutModel",
          "model_module_version": "1.2.0",
          "state": {
            "_model_module": "@jupyter-widgets/base",
            "_model_module_version": "1.2.0",
            "_model_name": "LayoutModel",
            "_view_count": null,
            "_view_module": "@jupyter-widgets/base",
            "_view_module_version": "1.2.0",
            "_view_name": "LayoutView",
            "align_content": null,
            "align_items": null,
            "align_self": null,
            "border": null,
            "bottom": null,
            "display": null,
            "flex": null,
            "flex_flow": null,
            "grid_area": null,
            "grid_auto_columns": null,
            "grid_auto_flow": null,
            "grid_auto_rows": null,
            "grid_column": null,
            "grid_gap": null,
            "grid_row": null,
            "grid_template_areas": null,
            "grid_template_columns": null,
            "grid_template_rows": null,
            "height": null,
            "justify_content": null,
            "justify_items": null,
            "left": null,
            "margin": null,
            "max_height": null,
            "max_width": null,
            "min_height": null,
            "min_width": null,
            "object_fit": null,
            "object_position": null,
            "order": null,
            "overflow": null,
            "overflow_x": null,
            "overflow_y": null,
            "padding": null,
            "right": null,
            "top": null,
            "visibility": null,
            "width": null
          }
        },
        "cf972de7bd604cb1949c3766bb7ac7e4": {
          "model_module": "@jupyter-widgets/controls",
          "model_name": "DescriptionStyleModel",
          "model_module_version": "1.5.0",
          "state": {
            "_model_module": "@jupyter-widgets/controls",
            "_model_module_version": "1.5.0",
            "_model_name": "DescriptionStyleModel",
            "_view_count": null,
            "_view_module": "@jupyter-widgets/base",
            "_view_module_version": "1.2.0",
            "_view_name": "StyleView",
            "description_width": ""
          }
        },
        "ec8a38024e26423e92d1e2c47888080d": {
          "model_module": "@jupyter-widgets/controls",
          "model_name": "HBoxModel",
          "model_module_version": "1.5.0",
          "state": {
            "_dom_classes": [],
            "_model_module": "@jupyter-widgets/controls",
            "_model_module_version": "1.5.0",
            "_model_name": "HBoxModel",
            "_view_count": null,
            "_view_module": "@jupyter-widgets/controls",
            "_view_module_version": "1.5.0",
            "_view_name": "HBoxView",
            "box_style": "",
            "children": [
              "IPY_MODEL_ab1f402692f84378a80b1ab284fadc3f",
              "IPY_MODEL_dbf8199c307c44a49bcc7feef38c8226",
              "IPY_MODEL_385d419c3dbc4e9182a39867743f17b8"
            ],
            "layout": "IPY_MODEL_fe2534ea28504708b52b049755595399"
          }
        },
        "ab1f402692f84378a80b1ab284fadc3f": {
          "model_module": "@jupyter-widgets/controls",
          "model_name": "HTMLModel",
          "model_module_version": "1.5.0",
          "state": {
            "_dom_classes": [],
            "_model_module": "@jupyter-widgets/controls",
            "_model_module_version": "1.5.0",
            "_model_name": "HTMLModel",
            "_view_count": null,
            "_view_module": "@jupyter-widgets/controls",
            "_view_module_version": "1.5.0",
            "_view_name": "HTMLView",
            "description": "",
            "description_tooltip": null,
            "layout": "IPY_MODEL_713ae9a8fab04d92bc453e4107d35077",
            "placeholder": "​",
            "style": "IPY_MODEL_87c92b0fff9d466689a1f8d397f47850",
            "value": "Train Epoch: [1/2] Loss: 1.5776 ACC@1: 0.431%: 100%"
          }
        },
        "dbf8199c307c44a49bcc7feef38c8226": {
          "model_module": "@jupyter-widgets/controls",
          "model_name": "FloatProgressModel",
          "model_module_version": "1.5.0",
          "state": {
            "_dom_classes": [],
            "_model_module": "@jupyter-widgets/controls",
            "_model_module_version": "1.5.0",
            "_model_name": "FloatProgressModel",
            "_view_count": null,
            "_view_module": "@jupyter-widgets/controls",
            "_view_module_version": "1.5.0",
            "_view_name": "ProgressView",
            "bar_style": "success",
            "description": "",
            "description_tooltip": null,
            "layout": "IPY_MODEL_5d0d9bc128d345a7ad8fb6e4047b8642",
            "max": 782,
            "min": 0,
            "orientation": "horizontal",
            "style": "IPY_MODEL_99497de164c044d1a8527200ac6b3a91",
            "value": 782
          }
        },
        "385d419c3dbc4e9182a39867743f17b8": {
          "model_module": "@jupyter-widgets/controls",
          "model_name": "HTMLModel",
          "model_module_version": "1.5.0",
          "state": {
            "_dom_classes": [],
            "_model_module": "@jupyter-widgets/controls",
            "_model_module_version": "1.5.0",
            "_model_name": "HTMLModel",
            "_view_count": null,
            "_view_module": "@jupyter-widgets/controls",
            "_view_module_version": "1.5.0",
            "_view_name": "HTMLView",
            "description": "",
            "description_tooltip": null,
            "layout": "IPY_MODEL_9da9b6e0a6d24949bb88b057dc23db96",
            "placeholder": "​",
            "style": "IPY_MODEL_e221a6a751894a51af2dc876a494b9c0",
            "value": " 782/782 [00:25&lt;00:00, 33.49it/s]"
          }
        },
        "fe2534ea28504708b52b049755595399": {
          "model_module": "@jupyter-widgets/base",
          "model_name": "LayoutModel",
          "model_module_version": "1.2.0",
          "state": {
            "_model_module": "@jupyter-widgets/base",
            "_model_module_version": "1.2.0",
            "_model_name": "LayoutModel",
            "_view_count": null,
            "_view_module": "@jupyter-widgets/base",
            "_view_module_version": "1.2.0",
            "_view_name": "LayoutView",
            "align_content": null,
            "align_items": null,
            "align_self": null,
            "border": null,
            "bottom": null,
            "display": null,
            "flex": null,
            "flex_flow": null,
            "grid_area": null,
            "grid_auto_columns": null,
            "grid_auto_flow": null,
            "grid_auto_rows": null,
            "grid_column": null,
            "grid_gap": null,
            "grid_row": null,
            "grid_template_areas": null,
            "grid_template_columns": null,
            "grid_template_rows": null,
            "height": null,
            "justify_content": null,
            "justify_items": null,
            "left": null,
            "margin": null,
            "max_height": null,
            "max_width": null,
            "min_height": null,
            "min_width": null,
            "object_fit": null,
            "object_position": null,
            "order": null,
            "overflow": null,
            "overflow_x": null,
            "overflow_y": null,
            "padding": null,
            "right": null,
            "top": null,
            "visibility": null,
            "width": null
          }
        },
        "713ae9a8fab04d92bc453e4107d35077": {
          "model_module": "@jupyter-widgets/base",
          "model_name": "LayoutModel",
          "model_module_version": "1.2.0",
          "state": {
            "_model_module": "@jupyter-widgets/base",
            "_model_module_version": "1.2.0",
            "_model_name": "LayoutModel",
            "_view_count": null,
            "_view_module": "@jupyter-widgets/base",
            "_view_module_version": "1.2.0",
            "_view_name": "LayoutView",
            "align_content": null,
            "align_items": null,
            "align_self": null,
            "border": null,
            "bottom": null,
            "display": null,
            "flex": null,
            "flex_flow": null,
            "grid_area": null,
            "grid_auto_columns": null,
            "grid_auto_flow": null,
            "grid_auto_rows": null,
            "grid_column": null,
            "grid_gap": null,
            "grid_row": null,
            "grid_template_areas": null,
            "grid_template_columns": null,
            "grid_template_rows": null,
            "height": null,
            "justify_content": null,
            "justify_items": null,
            "left": null,
            "margin": null,
            "max_height": null,
            "max_width": null,
            "min_height": null,
            "min_width": null,
            "object_fit": null,
            "object_position": null,
            "order": null,
            "overflow": null,
            "overflow_x": null,
            "overflow_y": null,
            "padding": null,
            "right": null,
            "top": null,
            "visibility": null,
            "width": null
          }
        },
        "87c92b0fff9d466689a1f8d397f47850": {
          "model_module": "@jupyter-widgets/controls",
          "model_name": "DescriptionStyleModel",
          "model_module_version": "1.5.0",
          "state": {
            "_model_module": "@jupyter-widgets/controls",
            "_model_module_version": "1.5.0",
            "_model_name": "DescriptionStyleModel",
            "_view_count": null,
            "_view_module": "@jupyter-widgets/base",
            "_view_module_version": "1.2.0",
            "_view_name": "StyleView",
            "description_width": ""
          }
        },
        "5d0d9bc128d345a7ad8fb6e4047b8642": {
          "model_module": "@jupyter-widgets/base",
          "model_name": "LayoutModel",
          "model_module_version": "1.2.0",
          "state": {
            "_model_module": "@jupyter-widgets/base",
            "_model_module_version": "1.2.0",
            "_model_name": "LayoutModel",
            "_view_count": null,
            "_view_module": "@jupyter-widgets/base",
            "_view_module_version": "1.2.0",
            "_view_name": "LayoutView",
            "align_content": null,
            "align_items": null,
            "align_self": null,
            "border": null,
            "bottom": null,
            "display": null,
            "flex": null,
            "flex_flow": null,
            "grid_area": null,
            "grid_auto_columns": null,
            "grid_auto_flow": null,
            "grid_auto_rows": null,
            "grid_column": null,
            "grid_gap": null,
            "grid_row": null,
            "grid_template_areas": null,
            "grid_template_columns": null,
            "grid_template_rows": null,
            "height": null,
            "justify_content": null,
            "justify_items": null,
            "left": null,
            "margin": null,
            "max_height": null,
            "max_width": null,
            "min_height": null,
            "min_width": null,
            "object_fit": null,
            "object_position": null,
            "order": null,
            "overflow": null,
            "overflow_x": null,
            "overflow_y": null,
            "padding": null,
            "right": null,
            "top": null,
            "visibility": null,
            "width": null
          }
        },
        "99497de164c044d1a8527200ac6b3a91": {
          "model_module": "@jupyter-widgets/controls",
          "model_name": "ProgressStyleModel",
          "model_module_version": "1.5.0",
          "state": {
            "_model_module": "@jupyter-widgets/controls",
            "_model_module_version": "1.5.0",
            "_model_name": "ProgressStyleModel",
            "_view_count": null,
            "_view_module": "@jupyter-widgets/base",
            "_view_module_version": "1.2.0",
            "_view_name": "StyleView",
            "bar_color": null,
            "description_width": ""
          }
        },
        "9da9b6e0a6d24949bb88b057dc23db96": {
          "model_module": "@jupyter-widgets/base",
          "model_name": "LayoutModel",
          "model_module_version": "1.2.0",
          "state": {
            "_model_module": "@jupyter-widgets/base",
            "_model_module_version": "1.2.0",
            "_model_name": "LayoutModel",
            "_view_count": null,
            "_view_module": "@jupyter-widgets/base",
            "_view_module_version": "1.2.0",
            "_view_name": "LayoutView",
            "align_content": null,
            "align_items": null,
            "align_self": null,
            "border": null,
            "bottom": null,
            "display": null,
            "flex": null,
            "flex_flow": null,
            "grid_area": null,
            "grid_auto_columns": null,
            "grid_auto_flow": null,
            "grid_auto_rows": null,
            "grid_column": null,
            "grid_gap": null,
            "grid_row": null,
            "grid_template_areas": null,
            "grid_template_columns": null,
            "grid_template_rows": null,
            "height": null,
            "justify_content": null,
            "justify_items": null,
            "left": null,
            "margin": null,
            "max_height": null,
            "max_width": null,
            "min_height": null,
            "min_width": null,
            "object_fit": null,
            "object_position": null,
            "order": null,
            "overflow": null,
            "overflow_x": null,
            "overflow_y": null,
            "padding": null,
            "right": null,
            "top": null,
            "visibility": null,
            "width": null
          }
        },
        "e221a6a751894a51af2dc876a494b9c0": {
          "model_module": "@jupyter-widgets/controls",
          "model_name": "DescriptionStyleModel",
          "model_module_version": "1.5.0",
          "state": {
            "_model_module": "@jupyter-widgets/controls",
            "_model_module_version": "1.5.0",
            "_model_name": "DescriptionStyleModel",
            "_view_count": null,
            "_view_module": "@jupyter-widgets/base",
            "_view_module_version": "1.2.0",
            "_view_name": "StyleView",
            "description_width": ""
          }
        },
        "8d4b968e7335479aa8c2f338dd462b22": {
          "model_module": "@jupyter-widgets/controls",
          "model_name": "HBoxModel",
          "model_module_version": "1.5.0",
          "state": {
            "_dom_classes": [],
            "_model_module": "@jupyter-widgets/controls",
            "_model_module_version": "1.5.0",
            "_model_name": "HBoxModel",
            "_view_count": null,
            "_view_module": "@jupyter-widgets/controls",
            "_view_module_version": "1.5.0",
            "_view_name": "HBoxView",
            "box_style": "",
            "children": [
              "IPY_MODEL_488cb9713c474041adc7d92576f1ac46",
              "IPY_MODEL_44631ce36fcb467994e7de35f5cbdeef",
              "IPY_MODEL_bb5c70b621594d4182ccbe644c8a8dd1"
            ],
            "layout": "IPY_MODEL_e2b82ce31b2f45d386a459e719ccf869"
          }
        },
        "488cb9713c474041adc7d92576f1ac46": {
          "model_module": "@jupyter-widgets/controls",
          "model_name": "HTMLModel",
          "model_module_version": "1.5.0",
          "state": {
            "_dom_classes": [],
            "_model_module": "@jupyter-widgets/controls",
            "_model_module_version": "1.5.0",
            "_model_name": "HTMLModel",
            "_view_count": null,
            "_view_module": "@jupyter-widgets/controls",
            "_view_module_version": "1.5.0",
            "_view_name": "HTMLView",
            "description": "",
            "description_tooltip": null,
            "layout": "IPY_MODEL_b32913d5ab4a47ea9ae3f4f0e0c631b6",
            "placeholder": "​",
            "style": "IPY_MODEL_694f634bbf54406dba30a62a64634a75",
            "value": "Test Epoch: [1/2] Loss: 1.4995 ACC@1: 0.455%: 100%"
          }
        },
        "44631ce36fcb467994e7de35f5cbdeef": {
          "model_module": "@jupyter-widgets/controls",
          "model_name": "FloatProgressModel",
          "model_module_version": "1.5.0",
          "state": {
            "_dom_classes": [],
            "_model_module": "@jupyter-widgets/controls",
            "_model_module_version": "1.5.0",
            "_model_name": "FloatProgressModel",
            "_view_count": null,
            "_view_module": "@jupyter-widgets/controls",
            "_view_module_version": "1.5.0",
            "_view_name": "ProgressView",
            "bar_style": "success",
            "description": "",
            "description_tooltip": null,
            "layout": "IPY_MODEL_cf06d0d67dbb468999569be6241a3516",
            "max": 157,
            "min": 0,
            "orientation": "horizontal",
            "style": "IPY_MODEL_9b11c7d015a343acaf6409856fbe21ed",
            "value": 157
          }
        },
        "bb5c70b621594d4182ccbe644c8a8dd1": {
          "model_module": "@jupyter-widgets/controls",
          "model_name": "HTMLModel",
          "model_module_version": "1.5.0",
          "state": {
            "_dom_classes": [],
            "_model_module": "@jupyter-widgets/controls",
            "_model_module_version": "1.5.0",
            "_model_name": "HTMLModel",
            "_view_count": null,
            "_view_module": "@jupyter-widgets/controls",
            "_view_module_version": "1.5.0",
            "_view_name": "HTMLView",
            "description": "",
            "description_tooltip": null,
            "layout": "IPY_MODEL_35bea7f04c2a4ab0a0e43c73ee2a7115",
            "placeholder": "​",
            "style": "IPY_MODEL_237395f5996c4f5aa0d8989a1a114369",
            "value": " 157/157 [00:02&lt;00:00, 66.64it/s]"
          }
        },
        "e2b82ce31b2f45d386a459e719ccf869": {
          "model_module": "@jupyter-widgets/base",
          "model_name": "LayoutModel",
          "model_module_version": "1.2.0",
          "state": {
            "_model_module": "@jupyter-widgets/base",
            "_model_module_version": "1.2.0",
            "_model_name": "LayoutModel",
            "_view_count": null,
            "_view_module": "@jupyter-widgets/base",
            "_view_module_version": "1.2.0",
            "_view_name": "LayoutView",
            "align_content": null,
            "align_items": null,
            "align_self": null,
            "border": null,
            "bottom": null,
            "display": null,
            "flex": null,
            "flex_flow": null,
            "grid_area": null,
            "grid_auto_columns": null,
            "grid_auto_flow": null,
            "grid_auto_rows": null,
            "grid_column": null,
            "grid_gap": null,
            "grid_row": null,
            "grid_template_areas": null,
            "grid_template_columns": null,
            "grid_template_rows": null,
            "height": null,
            "justify_content": null,
            "justify_items": null,
            "left": null,
            "margin": null,
            "max_height": null,
            "max_width": null,
            "min_height": null,
            "min_width": null,
            "object_fit": null,
            "object_position": null,
            "order": null,
            "overflow": null,
            "overflow_x": null,
            "overflow_y": null,
            "padding": null,
            "right": null,
            "top": null,
            "visibility": null,
            "width": null
          }
        },
        "b32913d5ab4a47ea9ae3f4f0e0c631b6": {
          "model_module": "@jupyter-widgets/base",
          "model_name": "LayoutModel",
          "model_module_version": "1.2.0",
          "state": {
            "_model_module": "@jupyter-widgets/base",
            "_model_module_version": "1.2.0",
            "_model_name": "LayoutModel",
            "_view_count": null,
            "_view_module": "@jupyter-widgets/base",
            "_view_module_version": "1.2.0",
            "_view_name": "LayoutView",
            "align_content": null,
            "align_items": null,
            "align_self": null,
            "border": null,
            "bottom": null,
            "display": null,
            "flex": null,
            "flex_flow": null,
            "grid_area": null,
            "grid_auto_columns": null,
            "grid_auto_flow": null,
            "grid_auto_rows": null,
            "grid_column": null,
            "grid_gap": null,
            "grid_row": null,
            "grid_template_areas": null,
            "grid_template_columns": null,
            "grid_template_rows": null,
            "height": null,
            "justify_content": null,
            "justify_items": null,
            "left": null,
            "margin": null,
            "max_height": null,
            "max_width": null,
            "min_height": null,
            "min_width": null,
            "object_fit": null,
            "object_position": null,
            "order": null,
            "overflow": null,
            "overflow_x": null,
            "overflow_y": null,
            "padding": null,
            "right": null,
            "top": null,
            "visibility": null,
            "width": null
          }
        },
        "694f634bbf54406dba30a62a64634a75": {
          "model_module": "@jupyter-widgets/controls",
          "model_name": "DescriptionStyleModel",
          "model_module_version": "1.5.0",
          "state": {
            "_model_module": "@jupyter-widgets/controls",
            "_model_module_version": "1.5.0",
            "_model_name": "DescriptionStyleModel",
            "_view_count": null,
            "_view_module": "@jupyter-widgets/base",
            "_view_module_version": "1.2.0",
            "_view_name": "StyleView",
            "description_width": ""
          }
        },
        "cf06d0d67dbb468999569be6241a3516": {
          "model_module": "@jupyter-widgets/base",
          "model_name": "LayoutModel",
          "model_module_version": "1.2.0",
          "state": {
            "_model_module": "@jupyter-widgets/base",
            "_model_module_version": "1.2.0",
            "_model_name": "LayoutModel",
            "_view_count": null,
            "_view_module": "@jupyter-widgets/base",
            "_view_module_version": "1.2.0",
            "_view_name": "LayoutView",
            "align_content": null,
            "align_items": null,
            "align_self": null,
            "border": null,
            "bottom": null,
            "display": null,
            "flex": null,
            "flex_flow": null,
            "grid_area": null,
            "grid_auto_columns": null,
            "grid_auto_flow": null,
            "grid_auto_rows": null,
            "grid_column": null,
            "grid_gap": null,
            "grid_row": null,
            "grid_template_areas": null,
            "grid_template_columns": null,
            "grid_template_rows": null,
            "height": null,
            "justify_content": null,
            "justify_items": null,
            "left": null,
            "margin": null,
            "max_height": null,
            "max_width": null,
            "min_height": null,
            "min_width": null,
            "object_fit": null,
            "object_position": null,
            "order": null,
            "overflow": null,
            "overflow_x": null,
            "overflow_y": null,
            "padding": null,
            "right": null,
            "top": null,
            "visibility": null,
            "width": null
          }
        },
        "9b11c7d015a343acaf6409856fbe21ed": {
          "model_module": "@jupyter-widgets/controls",
          "model_name": "ProgressStyleModel",
          "model_module_version": "1.5.0",
          "state": {
            "_model_module": "@jupyter-widgets/controls",
            "_model_module_version": "1.5.0",
            "_model_name": "ProgressStyleModel",
            "_view_count": null,
            "_view_module": "@jupyter-widgets/base",
            "_view_module_version": "1.2.0",
            "_view_name": "StyleView",
            "bar_color": null,
            "description_width": ""
          }
        },
        "35bea7f04c2a4ab0a0e43c73ee2a7115": {
          "model_module": "@jupyter-widgets/base",
          "model_name": "LayoutModel",
          "model_module_version": "1.2.0",
          "state": {
            "_model_module": "@jupyter-widgets/base",
            "_model_module_version": "1.2.0",
            "_model_name": "LayoutModel",
            "_view_count": null,
            "_view_module": "@jupyter-widgets/base",
            "_view_module_version": "1.2.0",
            "_view_name": "LayoutView",
            "align_content": null,
            "align_items": null,
            "align_self": null,
            "border": null,
            "bottom": null,
            "display": null,
            "flex": null,
            "flex_flow": null,
            "grid_area": null,
            "grid_auto_columns": null,
            "grid_auto_flow": null,
            "grid_auto_rows": null,
            "grid_column": null,
            "grid_gap": null,
            "grid_row": null,
            "grid_template_areas": null,
            "grid_template_columns": null,
            "grid_template_rows": null,
            "height": null,
            "justify_content": null,
            "justify_items": null,
            "left": null,
            "margin": null,
            "max_height": null,
            "max_width": null,
            "min_height": null,
            "min_width": null,
            "object_fit": null,
            "object_position": null,
            "order": null,
            "overflow": null,
            "overflow_x": null,
            "overflow_y": null,
            "padding": null,
            "right": null,
            "top": null,
            "visibility": null,
            "width": null
          }
        },
        "237395f5996c4f5aa0d8989a1a114369": {
          "model_module": "@jupyter-widgets/controls",
          "model_name": "DescriptionStyleModel",
          "model_module_version": "1.5.0",
          "state": {
            "_model_module": "@jupyter-widgets/controls",
            "_model_module_version": "1.5.0",
            "_model_name": "DescriptionStyleModel",
            "_view_count": null,
            "_view_module": "@jupyter-widgets/base",
            "_view_module_version": "1.2.0",
            "_view_name": "StyleView",
            "description_width": ""
          }
        }
      }
    }
  },
  "cells": [
    {
      "cell_type": "markdown",
      "metadata": {
        "id": "view-in-github",
        "colab_type": "text"
      },
      "source": [
        "<a href=\"https://colab.research.google.com/github/KwonKiHyeok/CS231n/blob/main/Untitled1.ipynb\" target=\"_parent\"><img src=\"https://colab.research.google.com/assets/colab-badge.svg\" alt=\"Open In Colab\"/></a>"
      ]
    },
    {
      "cell_type": "code",
      "execution_count": 1,
      "metadata": {
        "colab": {
          "base_uri": "https://localhost:8080/"
        },
        "id": "MyeMyJbyELXK",
        "outputId": "d5d062a5-13c8-401b-9bb8-7b19a9d9d189"
      },
      "outputs": [
        {
          "output_type": "stream",
          "name": "stdout",
          "text": [
            "Mounted at /content/drive\n",
            "/content/drive/My Drive/cs231n/assignments/assignment3/cs231n/datasets\n",
            "/content/drive/My Drive/cs231n/assignments/assignment3\n"
          ]
        }
      ],
      "source": [
        "# This mounts your Google Drive to the Colab VM.\n",
        "from google.colab import drive\n",
        "drive.mount('/content/drive')\n",
        "\n",
        "# TODO: Enter the foldername in your Drive where you have saved the unzipped\n",
        "# assignment folder, e.g. 'cs231n/assignments/assignment3/'\n",
        "FOLDERNAME = 'cs231n/assignments/assignment3/'\n",
        "assert FOLDERNAME is not None, \"[!] Enter the foldername.\"\n",
        "\n",
        "# Now that we've mounted your Drive, this ensures that\n",
        "# the Python interpreter of the Colab VM can load\n",
        "# python files from within it.\n",
        "import sys\n",
        "sys.path.append('/content/drive/My Drive/{}'.format(FOLDERNAME))\n",
        "\n",
        "# This downloads the COCO dataset to your Drive\n",
        "# if it doesn't already exist.\n",
        "%cd /content/drive/My\\ Drive/$FOLDERNAME/cs231n/datasets/\n",
        "# !bash get_datasets.sh\n",
        "!bash get_coco_dataset.sh\n",
        "%cd /content/drive/My\\ Drive/$FOLDERNAME\n"
      ]
    },
    {
      "cell_type": "markdown",
      "source": [
        "# Image Captioning with Transformers\n",
        "You have now implemented a vanilla RNN and for the task of image captioning. In this notebook you will implement key pieces of a transformer decoder to accomplish the same task.\n",
        "\n",
        "**NOTE:** This notebook will be primarily written in PyTorch rather than NumPy, unlike the RNN notebook."
      ],
      "metadata": {
        "id": "P-Q-HtdbEOE0"
      }
    },
    {
      "cell_type": "code",
      "source": [
        "# Setup cell.\n",
        "import time, os, json\n",
        "import numpy as np\n",
        "import matplotlib.pyplot as plt\n",
        "\n",
        "from cs231n.gradient_check import eval_numerical_gradient, eval_numerical_gradient_array\n",
        "from cs231n.transformer_layers import *\n",
        "from cs231n.captioning_solver_transformer import CaptioningSolverTransformer\n",
        "from cs231n.classifiers.transformer import CaptioningTransformer\n",
        "from cs231n.coco_utils import load_coco_data, sample_coco_minibatch, decode_captions\n",
        "from cs231n.image_utils import image_from_url\n",
        "\n",
        "%matplotlib inline\n",
        "plt.rcParams['figure.figsize'] = (10.0, 8.0) # Set default size of plots.\n",
        "plt.rcParams['image.interpolation'] = 'nearest'\n",
        "plt.rcParams['image.cmap'] = 'gray'\n",
        "\n",
        "%load_ext autoreload\n",
        "%autoreload 2\n",
        "\n",
        "def rel_error(x, y):\n",
        "    \"\"\" returns relative error \"\"\"\n",
        "    return np.max(np.abs(x - y) / (np.maximum(1e-8, np.abs(x) + np.abs(y))))"
      ],
      "metadata": {
        "id": "dD3D4eQoEUwz"
      },
      "execution_count": 2,
      "outputs": []
    },
    {
      "cell_type": "markdown",
      "source": [
        "# COCO Dataset\n",
        "As in the previous notebooks, we will use the COCO dataset for captioning."
      ],
      "metadata": {
        "id": "2498095qEWFg"
      }
    },
    {
      "cell_type": "code",
      "source": [
        "# Load COCO data from disk into a dictionary.\n",
        "data = load_coco_data(pca_features=True)\n",
        "\n",
        "# Print out all the keys and values from the data dictionary.\n",
        "for k, v in data.items():\n",
        "    if type(v) == np.ndarray:\n",
        "        print(k, type(v), v.shape, v.dtype)\n",
        "    else:\n",
        "        print(k, type(v), len(v))"
      ],
      "metadata": {
        "colab": {
          "base_uri": "https://localhost:8080/"
        },
        "id": "7ryCY81yEXXU",
        "outputId": "c9ce253e-fe9e-423f-91a8-0374ac38601d"
      },
      "execution_count": 3,
      "outputs": [
        {
          "output_type": "stream",
          "name": "stdout",
          "text": [
            "base dir  /content/drive/My Drive/cs231n/assignments/assignment3/cs231n/datasets/coco_captioning\n",
            "train_captions <class 'numpy.ndarray'> (400135, 17) int32\n",
            "train_image_idxs <class 'numpy.ndarray'> (400135,) int32\n",
            "val_captions <class 'numpy.ndarray'> (195954, 17) int32\n",
            "val_image_idxs <class 'numpy.ndarray'> (195954,) int32\n",
            "train_features <class 'numpy.ndarray'> (82783, 512) float32\n",
            "val_features <class 'numpy.ndarray'> (40504, 512) float32\n",
            "idx_to_word <class 'list'> 1004\n",
            "word_to_idx <class 'dict'> 1004\n",
            "train_urls <class 'numpy.ndarray'> (82783,) <U63\n",
            "val_urls <class 'numpy.ndarray'> (40504,) <U63\n"
          ]
        }
      ]
    },
    {
      "cell_type": "markdown",
      "source": [
        "# Transformer\n",
        "As you have seen, RNNs are incredibly powerful but often slow to train. Further, RNNs struggle to encode long-range dependencies (though LSTMs are one way of mitigating the issue). In 2017, Vaswani et al introduced the Transformer in their paper [\"Attention Is All You Need\"](https://arxiv.org/abs/1706.03762) to a) introduce parallelism and b) allow models to learn long-range dependencies. The paper not only led to famous models like BERT and GPT in the natural language processing community, but also an explosion of interest across fields, including vision. While here we introduce the model in the context of image captioning, the idea of attention itself is much more general.\n",
        "\n"
      ],
      "metadata": {
        "id": "38pVvIayEZxq"
      }
    },
    {
      "cell_type": "markdown",
      "source": [
        "# Transformer: Multi-Headed Attention\n",
        "\n",
        "### Dot-Product Attention\n",
        "\n",
        "Recall that attention can be viewed as an operation on a query $q\\in\\mathbb{R}^d$, a set of value vectors $\\{v_1,\\dots,v_n\\}, v_i\\in\\mathbb{R}^d$, and a set of key vectors $\\{k_1,\\dots,k_n\\}, k_i \\in \\mathbb{R}^d$, specified as"
      ],
      "metadata": {
        "id": "cukCYK00EcUq"
      }
    },
    {
      "cell_type": "markdown",
      "source": [
        "\\begin{align}\n",
        "c &= \\sum_{i=1}^{n} v_i \\alpha_i \\\\\n",
        "\\alpha_i &= \\frac{\\exp(k_i^\\top q)}{\\sum_{j=1}^{n} \\exp(k_j^\\top q)} \\\\\n",
        "\\end{align}"
      ],
      "metadata": {
        "id": "7Yyl8T7MEejf"
      }
    },
    {
      "cell_type": "markdown",
      "source": [
        "where $\\alpha_i$ are frequently called the \"attention weights\", and the output $c\\in\\mathbb{R}^d$ is a correspondingly weighted average over the value vectors.\n",
        "\n",
        "### Self-Attention\n",
        "In Transformers, we perform self-attention, which means that the values, keys and query are derived from the input $X \\in \\mathbb{R}^{\\ell \\times d}$, where $\\ell$ is our sequence length. Specifically, we learn parameter matrices $V,K,Q \\in \\mathbb{R}^{d\\times d}$ to map our input $X$ as follows:"
      ],
      "metadata": {
        "id": "IDLZ3wkEEg-5"
      }
    },
    {
      "cell_type": "markdown",
      "source": [
        "\\begin{align}\n",
        "v_i = Vx_i\\ \\ i \\in \\{1,\\dots,\\ell\\}\\\\\n",
        "k_i = Kx_i\\ \\ i \\in \\{1,\\dots,\\ell\\}\\\\\n",
        "q_i = Qx_i\\ \\ i \\in \\{1,\\dots,\\ell\\}\n",
        "\\end{align}"
      ],
      "metadata": {
        "id": "K2wfKjXhEpeq"
      }
    },
    {
      "cell_type": "markdown",
      "source": [
        "### Multi-Headed Scaled Dot-Product Attention\n",
        "In the case of multi-headed attention, we learn a parameter matrix for each head, which gives the model more expressivity to attend to different parts of the input. Let $h$ be number of heads, and $Y_i$ be the attention output of head $i$. Thus we learn individual matrices $Q_i$, $K_i$ and $V_i$. To keep our overall computation the same as the single-headed case, we choose $Q_i \\in \\mathbb{R}^{d\\times d/h}$, $K_i \\in \\mathbb{R}^{d\\times d/h}$ and $V_i \\in \\mathbb{R}^{d\\times d/h}$. Adding in a scaling term $\\frac{1}{\\sqrt{d/h}}$ to our simple dot-product attention above, we have"
      ],
      "metadata": {
        "id": "2TIncXTCErYT"
      }
    },
    {
      "cell_type": "markdown",
      "source": [
        "\\begin{equation} \\label{qkv_eqn}\n",
        "Y_i = \\text{softmax}\\bigg(\\frac{(XQ_i)(XK_i)^\\top}{\\sqrt{d/h}}\\bigg)(XV_i)\n",
        "\\end{equation}"
      ],
      "metadata": {
        "id": "Ouki4UgVFMeP"
      }
    },
    {
      "cell_type": "markdown",
      "source": [
        "where $Y_i\\in\\mathbb{R}^{\\ell \\times d/h}$, where $\\ell$ is our sequence length.\n",
        "\n",
        "In our implementation, we apply dropout to the attention weights (though in practice it could be used at any step):"
      ],
      "metadata": {
        "id": "6wnbaoYXFSqr"
      }
    },
    {
      "cell_type": "markdown",
      "source": [
        "Finally, then the output of the self-attention is a linear transformation of the concatenation of the heads:"
      ],
      "metadata": {
        "id": "HBM0wcPEFWGp"
      }
    },
    {
      "cell_type": "markdown",
      "source": [
        "\\begin{equation}\n",
        "Y = [Y_1;\\dots;Y_h]A\n",
        "\\end{equation}"
      ],
      "metadata": {
        "id": "cqRWPqXvFa95"
      }
    },
    {
      "cell_type": "markdown",
      "source": [
        "were $A \\in\\mathbb{R}^{d\\times d}$ and $[Y_1;\\dots;Y_h]\\in\\mathbb{R}^{\\ell \\times d}$.\n",
        "\n",
        "Implement multi-headed scaled dot-product attention in the `MultiHeadAttention` class in the file `cs231n/transformer_layers.py`. The code below will check your implementation. The relative error should be less than `e-3`."
      ],
      "metadata": {
        "id": "6XTwxsW7Fhco"
      }
    },
    {
      "cell_type": "code",
      "source": [
        "torch.manual_seed(231)\n",
        "\n",
        "# Choose dimensions such that they are all unique for easier debugging:\n",
        "# Specifically, the following values correspond to N=1, H=2, T=3, E//H=4, and E=8.\n",
        "batch_size = 1\n",
        "sequence_length = 3\n",
        "embed_dim = 8\n",
        "attn = MultiHeadAttention(embed_dim, num_heads=2)\n",
        "\n",
        "# Self-attention.\n",
        "data = torch.randn(batch_size, sequence_length, embed_dim)\n",
        "self_attn_output = attn(query=data, key=data, value=data)\n",
        "\n",
        "# Masked self-attention.\n",
        "mask = torch.randn(sequence_length, sequence_length) < 0.5\n",
        "masked_self_attn_output = attn(query=data, key=data, value=data, attn_mask=mask)\n",
        "\n",
        "# Attention using two inputs.\n",
        "other_data = torch.randn(batch_size, sequence_length, embed_dim)\n",
        "attn_output = attn(query=data, key=other_data, value=other_data)\n",
        "\n",
        "expected_self_attn_output = np.asarray([[\n",
        "[-0.2494,  0.1396,  0.4323, -0.2411, -0.1547,  0.2329, -0.1936,\n",
        "          -0.1444],\n",
        "         [-0.1997,  0.1746,  0.7377, -0.3549, -0.2657,  0.2693, -0.2541,\n",
        "          -0.2476],\n",
        "         [-0.0625,  0.1503,  0.7572, -0.3974, -0.1681,  0.2168, -0.2478,\n",
        "          -0.3038]]])\n",
        "\n",
        "expected_masked_self_attn_output = np.asarray([[\n",
        "[-0.1347,  0.1934,  0.8628, -0.4903, -0.2614,  0.2798, -0.2586,\n",
        "          -0.3019],\n",
        "         [-0.1013,  0.3111,  0.5783, -0.3248, -0.3842,  0.1482, -0.3628,\n",
        "          -0.1496],\n",
        "         [-0.2071,  0.1669,  0.7097, -0.3152, -0.3136,  0.2520, -0.2774,\n",
        "          -0.2208]]])\n",
        "\n",
        "expected_attn_output = np.asarray([[\n",
        "[-0.1980,  0.4083,  0.1968, -0.3477,  0.0321,  0.4258, -0.8972,\n",
        "          -0.2744],\n",
        "         [-0.1603,  0.4155,  0.2295, -0.3485, -0.0341,  0.3929, -0.8248,\n",
        "          -0.2767],\n",
        "         [-0.0908,  0.4113,  0.3017, -0.3539, -0.1020,  0.3784, -0.7189,\n",
        "          -0.2912]]])\n",
        "\n",
        "print('self_attn_output error: ', rel_error(expected_self_attn_output, self_attn_output.detach().numpy()))\n",
        "print('masked_self_attn_output error: ', rel_error(expected_masked_self_attn_output, masked_self_attn_output.detach().numpy()))\n",
        "print('attn_output error: ', rel_error(expected_attn_output, attn_output.detach().numpy()))"
      ],
      "metadata": {
        "colab": {
          "base_uri": "https://localhost:8080/"
        },
        "id": "LKo3J1Q6Fi5Z",
        "outputId": "a8a5f126-ff81-4651-be90-2c3310b595a4"
      },
      "execution_count": 4,
      "outputs": [
        {
          "output_type": "stream",
          "name": "stdout",
          "text": [
            "self_attn_output error:  0.0003775124598178026\n",
            "masked_self_attn_output error:  0.0001526367643724865\n",
            "attn_output error:  0.0003527921483788199\n"
          ]
        }
      ]
    },
    {
      "cell_type": "markdown",
      "source": [
        "# Positional Encoding\n",
        "\n",
        "While transformers are able to easily attend to any part of their input, the attention mechanism has no concept of token order. However, for many tasks (especially natural language processing), relative token order is very important. To recover this, the authors add a positional encoding to the embeddings of individual word tokens.\n",
        "\n",
        "Let us define a matrix $P \\in \\mathbb{R}^{l\\times d}$, where $P_{ij} = $"
      ],
      "metadata": {
        "id": "2pMx5mJ1FwdV"
      }
    },
    {
      "cell_type": "markdown",
      "source": [
        "$$\n",
        "\\begin{cases}\n",
        "\\text{sin}\\left(i \\cdot 10000^{-\\frac{j}{d}}\\right) & \\text{if j is even} \\\\\n",
        "\\text{cos}\\left(i \\cdot 10000^{-\\frac{(j-1)}{d}}\\right) & \\text{otherwise} \\\\\n",
        "\\end{cases}\n",
        "$$"
      ],
      "metadata": {
        "id": "KFM0baqbFyge"
      }
    },
    {
      "cell_type": "markdown",
      "source": [
        "Rather than directly passing an input $X \\in \\mathbb{R}^{l\\times d}$ to our network, we instead pass $X + P$.\n",
        "\n",
        "Implement this layer in `PositionalEncoding` in `cs231n/transformer_layers.py`. Once you are done, run the following to perform a simple test of your implementation. You should see errors on the order of `e-3` or less."
      ],
      "metadata": {
        "id": "hZ6PFAxLF02V"
      }
    },
    {
      "cell_type": "code",
      "source": [
        "torch.manual_seed(231)\n",
        "\n",
        "batch_size = 1\n",
        "sequence_length = 2\n",
        "embed_dim = 6\n",
        "data = torch.randn(batch_size, sequence_length, embed_dim)\n",
        "\n",
        "pos_encoder = PositionalEncoding(embed_dim)\n",
        "output = pos_encoder(data)\n",
        "\n",
        "expected_pe_output = np.asarray([[[-1.2340,  1.1127,  1.6978, -0.0865, -0.0000,  1.2728],\n",
        "                                  [ 0.9028, -0.4781,  0.5535,  0.8133,  1.2644,  1.7034]]])\n",
        "\n",
        "print('pe_output error: ', rel_error(expected_pe_output, output.detach().numpy()))"
      ],
      "metadata": {
        "colab": {
          "base_uri": "https://localhost:8080/"
        },
        "id": "TEeqjISOF15o",
        "outputId": "eea91760-5a8c-423a-f570-667f3f9526da"
      },
      "execution_count": 5,
      "outputs": [
        {
          "output_type": "stream",
          "name": "stdout",
          "text": [
            "pe_output error:  0.00010421011374914356\n"
          ]
        }
      ]
    },
    {
      "cell_type": "markdown",
      "source": [
        "# Inline Question 1\n",
        "\n",
        "Several key design decisions were made in designing the scaled dot product attention we introduced above. Explain why the following choices were beneficial:\n",
        "1. Using multiple attention heads as opposed to one.\n",
        "2. Dividing by $\\sqrt{d/h}$ before applying the softmax function. Recall that $d$ is the feature dimension and $h$ is the number of heads.\n",
        "3. Adding a linear transformation to the output of the attention operation.\n",
        "\n",
        "Only one or two sentences per choice is necessary, but be sure to be specific in addressing what would have happened without each given implementation detail, why such a situation would be suboptimal, and how the proposed implementation improves the situation.\n",
        "\n",
        "**Your Answer:**\n",
        "\n",
        "1. **Using multiple attention heads as opposed to one** <br>\n",
        "Using multiple attention heads allows the model to capture various relationships between different positions in parallel. A single head can only focus on one type of relationship, which limits the representational capacity, whereas multiple heads can simultaneously attend to different aspects such as context, syntactic structure, and semantic associations, resulting in richer representations.\n",
        "\n",
        "2. **Dividing by 𝑑 / ℎ before applying the softmax function** <br>\n",
        "The dot product between queries and keys can produce large variance when the feature dimension is high, which may lead the softmax output to become extremely small or biased. Dividing by 𝑑 / ℎ normalizes the scale of the scores, stabilizes the variance, and ensures that the softmax yields well-behaved gradients for effective and stable learning.\n",
        "\n",
        "3. **Adding a linear transformation to the output of the attention operation** <br>\n",
        "Simply concatenating the outputs from multiple heads results in disjoint subspace representations that lack meaningful integration. A linear transformation projects these concatenated outputs into a unified space, allowing the model to form coherent and task-relevant representations."
      ],
      "metadata": {
        "id": "VfbT4t3AF38S"
      }
    },
    {
      "cell_type": "markdown",
      "source": [
        "# Transformer Decoder Block\n",
        "\n",
        "Transformer decoder layer consists of three modules: (1) self attention to process input sequence of vectors, (2) cross attention to process based on available context (i.e. image features in our case), (3) feedforward module to process each vector of the sequence independently. Complete the implementation of `TransformerDecoderLayer` in `cs231n/transformer_layers.py` and test it below. The relative error should be less than 1e-6.\n",
        "\n",
        "The Transformer decoder layer has three main components: (1) a self-attention module that processes the input sequence of vectors, (2) a cross-attention module that incorporates additional context (e.g., image features in our case), and (3) a feedforward module that independently processes each vector in the sequence. Complete the implementation of `TransformerDecoderLayer` in `cs231n/transformer_layers.py` and test it below. The relative error should be less than 1e-6."
      ],
      "metadata": {
        "id": "_2oaxMHWF5zm"
      }
    },
    {
      "cell_type": "code",
      "source": [
        "torch.manual_seed(231)\n",
        "np.random.seed(231)\n",
        "\n",
        "N, T, TM, D = 1, 4, 5, 12\n",
        "\n",
        "decoder_layer = TransformerDecoderLayer(D, 2, 4*D)\n",
        "tgt = torch.randn(N, T, D)\n",
        "memory = torch.randn(N, TM, D)\n",
        "tgt_mask = torch.randn(T, T) < 0.5\n",
        "\n",
        "output = decoder_layer(tgt, memory, tgt_mask)\n",
        "\n",
        "expected_output = np.asarray([\n",
        "    [[ 1.1464597, -0.32541496,  0.39171425, -0.39425734,  0.62471056,\n",
        "      -1.8665842, -0.12977494, -1.6609063, -0.5620399,  0.45006236,\n",
        "       1.6086785,  0.7173523],\n",
        "     [-0.6703264,  0.34731007, -0.01452054, -0.0500976,  0.9617562,\n",
        "      -0.91788256,  0.5138556, -1.5247818,  2.0940537, -1.0386938,\n",
        "       1.0333964, -0.7340692],\n",
        "     [-1.1966342,  0.78882384,  0.1765188,  0.04164891,  1.9480462,\n",
        "      -0.94358695,  0.83423877, -0.44660965,  1.1469632, -1.6658922,\n",
        "      -0.27915588, -0.4043607],\n",
        "     [-0.96863323,  0.10736976, -0.18560877, -0.86474127, -0.12873,\n",
        "       0.36593518,  0.9634492, -0.9432319,  1.4652547,  1.2200648,\n",
        "       0.9218512, -1.9529796]]\n",
        "])\n",
        "print('error: ', rel_error(expected_output, output.detach().numpy()))"
      ],
      "metadata": {
        "colab": {
          "base_uri": "https://localhost:8080/"
        },
        "id": "L8MDFs9bF6nB",
        "outputId": "5e4956fc-fc80-4813-ae3e-5655b62cd24e"
      },
      "execution_count": 6,
      "outputs": [
        {
          "output_type": "stream",
          "name": "stdout",
          "text": [
            "error:  3.811465308064029e-08\n"
          ]
        }
      ]
    },
    {
      "cell_type": "markdown",
      "source": [
        "# Transformer for Image Captioning\n",
        "Now that you have implemented the previous layers, you can combine them to build a Transformer-based image captioning model. Open the file `cs231n/classifiers/transformer.py` and look at the `CaptioningTransformer` class.\n",
        "\n",
        "Implement the `forward` function of the class. After doing so, run the following to check your forward pass using a small test case; you should see error on the order of `e-5` or less."
      ],
      "metadata": {
        "id": "bDXClMrIF8oK"
      }
    },
    {
      "cell_type": "code",
      "source": [
        "torch.manual_seed(231)\n",
        "np.random.seed(231)\n",
        "\n",
        "N, D, W = 4, 20, 30\n",
        "word_to_idx = {'<NULL>': 0, 'cat': 2, 'dog': 3}\n",
        "V = len(word_to_idx)\n",
        "T = 3\n",
        "\n",
        "transformer = CaptioningTransformer(\n",
        "    word_to_idx,\n",
        "    input_dim=D,\n",
        "    wordvec_dim=W,\n",
        "    num_heads=2,\n",
        "    num_layers=2,\n",
        "    max_length=30\n",
        ")\n",
        "\n",
        "features = torch.randn(N, D)\n",
        "captions = torch.randint(0, V, (N, T))\n",
        "\n",
        "scores = transformer(features, captions)\n",
        "expected_scores = np.asarray([\n",
        "    [[ 0.48119992, -0.24859881, -0.7489549 ],\n",
        "     [ 0.20380056,  0.08959456, -0.89954275],\n",
        "     [ 0.21135767, -0.17083111, -0.62508506]],\n",
        "\n",
        "    [[ 0.49413955, -0.50489324, -0.79341394],\n",
        "     [ 0.87452495, -0.4392967 , -1.1513498 ],\n",
        "     [ 0.2547267 , -0.26321974, -0.93643296]],\n",
        "\n",
        "    [[ 0.70437765, -0.5729916 , -0.7946507 ],\n",
        "     [ 0.18345363, -0.31752932, -1.7304884 ],\n",
        "     [ 0.61473167, -0.82634443, -1.2179294 ]],\n",
        "\n",
        "    [[ 0.5163983 , -0.7899667 , -1.0383208 ],\n",
        "     [ 0.28063023, -0.3603301 , -1.5435203 ],\n",
        "     [ 0.7222998 , -0.71457165, -0.76669186]]\n",
        "])\n",
        "\n",
        "print('scores error: ', rel_error(expected_scores, scores.detach().numpy()))"
      ],
      "metadata": {
        "colab": {
          "base_uri": "https://localhost:8080/"
        },
        "id": "f9Cx5eIJF9vF",
        "outputId": "9bac26a0-471a-4437-acd5-fe95c90a47c9"
      },
      "execution_count": 7,
      "outputs": [
        {
          "output_type": "stream",
          "name": "stdout",
          "text": [
            "scores error:  1.6443532045090586e-08\n"
          ]
        }
      ]
    },
    {
      "cell_type": "markdown",
      "source": [
        "# Overfit Transformer Captioning Model on Small Data\n",
        "Run the following to overfit the Transformer-based captioning model on the same small dataset as we used for the RNN previously."
      ],
      "metadata": {
        "id": "cNtXZUHZF_Zt"
      }
    },
    {
      "cell_type": "code",
      "source": [
        "torch.manual_seed(231)\n",
        "np.random.seed(231)\n",
        "\n",
        "data = load_coco_data(max_train=50)\n",
        "\n",
        "transformer = CaptioningTransformer(\n",
        "          word_to_idx=data['word_to_idx'],\n",
        "          input_dim=data['train_features'].shape[1],\n",
        "          wordvec_dim=256,\n",
        "          num_heads=2,\n",
        "          num_layers=2,\n",
        "          max_length=30\n",
        "        )\n",
        "\n",
        "\n",
        "transformer_solver = CaptioningSolverTransformer(transformer, data, idx_to_word=data['idx_to_word'],\n",
        "           num_epochs=100,\n",
        "           batch_size=25,\n",
        "           learning_rate=0.001,\n",
        "           verbose=True, print_every=10,\n",
        "         )\n",
        "\n",
        "transformer_solver.train()\n",
        "\n",
        "# Plot the training losses.\n",
        "plt.plot(transformer_solver.loss_history)\n",
        "plt.xlabel('Iteration')\n",
        "plt.ylabel('Loss')\n",
        "plt.title('Training loss history')\n",
        "plt.show()"
      ],
      "metadata": {
        "colab": {
          "base_uri": "https://localhost:8080/",
          "height": 1000
        },
        "id": "FDU1sEH1GAdy",
        "outputId": "51df4992-cc99-49b5-f2e7-3f2acfbc6767"
      },
      "execution_count": 8,
      "outputs": [
        {
          "output_type": "stream",
          "name": "stdout",
          "text": [
            "base dir  /content/drive/My Drive/cs231n/assignments/assignment3/cs231n/datasets/coco_captioning\n",
            "(Iteration 1 / 200) loss: 5.055427\n",
            "(Iteration 11 / 200) loss: 2.819051\n",
            "(Iteration 21 / 200) loss: 2.036878\n",
            "(Iteration 31 / 200) loss: 1.659048\n",
            "(Iteration 41 / 200) loss: 1.313489\n",
            "(Iteration 51 / 200) loss: 1.195412\n",
            "(Iteration 61 / 200) loss: 0.864514\n",
            "(Iteration 71 / 200) loss: 0.806814\n",
            "(Iteration 81 / 200) loss: 0.566810\n",
            "(Iteration 91 / 200) loss: 0.435671\n",
            "(Iteration 101 / 200) loss: 0.380263\n",
            "(Iteration 111 / 200) loss: 0.157928\n",
            "(Iteration 121 / 200) loss: 0.111748\n",
            "(Iteration 131 / 200) loss: 0.102176\n",
            "(Iteration 141 / 200) loss: 0.077055\n",
            "(Iteration 151 / 200) loss: 0.072139\n",
            "(Iteration 161 / 200) loss: 0.046707\n",
            "(Iteration 171 / 200) loss: 0.039755\n",
            "(Iteration 181 / 200) loss: 0.028434\n",
            "(Iteration 191 / 200) loss: 0.027322\n"
          ]
        },
        {
          "output_type": "display_data",
          "data": {
            "text/plain": [
              "<Figure size 1000x800 with 1 Axes>"
            ],
            "image/png": "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\n"
          },
          "metadata": {}
        }
      ]
    },
    {
      "cell_type": "markdown",
      "source": [
        "Print final training loss. You should see a final loss of less than 0.05 ."
      ],
      "metadata": {
        "id": "iQG-K9-DGCnK"
      }
    },
    {
      "cell_type": "code",
      "source": [
        "print('Final loss: ', transformer_solver.loss_history[-1])"
      ],
      "metadata": {
        "colab": {
          "base_uri": "https://localhost:8080/"
        },
        "id": "zUXEC3PVGFFm",
        "outputId": "7adf15f1-ca01-40e0-b8f0-48115d716a86"
      },
      "execution_count": 9,
      "outputs": [
        {
          "output_type": "stream",
          "name": "stdout",
          "text": [
            "Final loss:  0.020686612\n"
          ]
        }
      ]
    },
    {
      "cell_type": "markdown",
      "source": [
        "# Transformer Sampling at Test Time\n",
        "The sampling code has been written for you. You can simply run the following to compare with the previous results with the RNN. As before the training results should be much better than the validation set results, given how little data we trained on."
      ],
      "metadata": {
        "id": "gs-ev9arGJHS"
      }
    },
    {
      "cell_type": "code",
      "source": [
        "# If you get an error, the URL just no longer exists, so don't worry!\n",
        "# You can re-sample as many times as you want.\n",
        "for split in ['train', 'val']:\n",
        "    minibatch = sample_coco_minibatch(data, split=split, batch_size=2)\n",
        "    gt_captions, features, urls = minibatch\n",
        "    gt_captions = decode_captions(gt_captions, data['idx_to_word'])\n",
        "\n",
        "    sample_captions = transformer.sample(features, max_length=30)\n",
        "    sample_captions = decode_captions(sample_captions, data['idx_to_word'])\n",
        "\n",
        "    for gt_caption, sample_caption, url in zip(gt_captions, sample_captions, urls):\n",
        "        img = image_from_url(url)\n",
        "        # Skip missing URLs.\n",
        "        if img is None: continue\n",
        "        plt.imshow(img)\n",
        "        plt.title('%s\\n%s\\nGT:%s' % (split, sample_caption, gt_caption))\n",
        "        plt.axis('off')\n",
        "        plt.show()"
      ],
      "metadata": {
        "colab": {
          "base_uri": "https://localhost:8080/",
          "height": 347
        },
        "id": "FTKkZLubGKKF",
        "outputId": "bd1e75dc-33c7-4445-c2f2-794e18e04315"
      },
      "execution_count": 24,
      "outputs": [
        {
          "output_type": "error",
          "ename": "AttributeError",
          "evalue": "'VisionTransformer' object has no attribute 'sample'",
          "traceback": [
            "\u001b[0;31m---------------------------------------------------------------------------\u001b[0m",
            "\u001b[0;31mAttributeError\u001b[0m                            Traceback (most recent call last)",
            "\u001b[0;32m<ipython-input-24-77c7917a91ab>\u001b[0m in \u001b[0;36m<cell line: 0>\u001b[0;34m()\u001b[0m\n\u001b[1;32m      6\u001b[0m     \u001b[0mgt_captions\u001b[0m \u001b[0;34m=\u001b[0m \u001b[0mdecode_captions\u001b[0m\u001b[0;34m(\u001b[0m\u001b[0mgt_captions\u001b[0m\u001b[0;34m,\u001b[0m \u001b[0mdata\u001b[0m\u001b[0;34m[\u001b[0m\u001b[0;34m'idx_to_word'\u001b[0m\u001b[0;34m]\u001b[0m\u001b[0;34m)\u001b[0m\u001b[0;34m\u001b[0m\u001b[0;34m\u001b[0m\u001b[0m\n\u001b[1;32m      7\u001b[0m \u001b[0;34m\u001b[0m\u001b[0m\n\u001b[0;32m----> 8\u001b[0;31m     \u001b[0msample_captions\u001b[0m \u001b[0;34m=\u001b[0m \u001b[0mtransformer\u001b[0m\u001b[0;34m.\u001b[0m\u001b[0msample\u001b[0m\u001b[0;34m(\u001b[0m\u001b[0mfeatures\u001b[0m\u001b[0;34m,\u001b[0m \u001b[0mmax_length\u001b[0m\u001b[0;34m=\u001b[0m\u001b[0;36m30\u001b[0m\u001b[0;34m)\u001b[0m\u001b[0;34m\u001b[0m\u001b[0;34m\u001b[0m\u001b[0m\n\u001b[0m\u001b[1;32m      9\u001b[0m     \u001b[0msample_captions\u001b[0m \u001b[0;34m=\u001b[0m \u001b[0mdecode_captions\u001b[0m\u001b[0;34m(\u001b[0m\u001b[0msample_captions\u001b[0m\u001b[0;34m,\u001b[0m \u001b[0mdata\u001b[0m\u001b[0;34m[\u001b[0m\u001b[0;34m'idx_to_word'\u001b[0m\u001b[0;34m]\u001b[0m\u001b[0;34m)\u001b[0m\u001b[0;34m\u001b[0m\u001b[0;34m\u001b[0m\u001b[0m\n\u001b[1;32m     10\u001b[0m \u001b[0;34m\u001b[0m\u001b[0m\n",
            "\u001b[0;32m/usr/local/lib/python3.11/dist-packages/torch/nn/modules/module.py\u001b[0m in \u001b[0;36m__getattr__\u001b[0;34m(self, name)\u001b[0m\n\u001b[1;32m   1926\u001b[0m             \u001b[0;32mif\u001b[0m \u001b[0mname\u001b[0m \u001b[0;32min\u001b[0m \u001b[0mmodules\u001b[0m\u001b[0;34m:\u001b[0m\u001b[0;34m\u001b[0m\u001b[0;34m\u001b[0m\u001b[0m\n\u001b[1;32m   1927\u001b[0m                 \u001b[0;32mreturn\u001b[0m \u001b[0mmodules\u001b[0m\u001b[0;34m[\u001b[0m\u001b[0mname\u001b[0m\u001b[0;34m]\u001b[0m\u001b[0;34m\u001b[0m\u001b[0;34m\u001b[0m\u001b[0m\n\u001b[0;32m-> 1928\u001b[0;31m         raise AttributeError(\n\u001b[0m\u001b[1;32m   1929\u001b[0m             \u001b[0;34mf\"'{type(self).__name__}' object has no attribute '{name}'\"\u001b[0m\u001b[0;34m\u001b[0m\u001b[0;34m\u001b[0m\u001b[0m\n\u001b[1;32m   1930\u001b[0m         )\n",
            "\u001b[0;31mAttributeError\u001b[0m: 'VisionTransformer' object has no attribute 'sample'"
          ]
        }
      ]
    },
    {
      "cell_type": "markdown",
      "source": [
        "# Vision Transformer (ViT)\n",
        "\n",
        "[Dosovitskiy et. al.](https://arxiv.org/abs/2010.11929) showed that applying a transformer model on a sequence of image patches (referred to as Vision Transformer) not only achieves impressive performance but also scales more effectively than convolutional neural networks when trained on large datasets. We will build a version of Vision Transformer using our existing implementation of transformer components and train it on the CIFAR-10 dataset."
      ],
      "metadata": {
        "id": "2yvoi_k-GVg0"
      }
    },
    {
      "cell_type": "markdown",
      "source": [
        "Vision Transformer converts input image into a sequence of patches of fixed size and embed each patch into a latent vector. In `cs231/transformer_layers.py`, complete the implementation of `PatchEmbedding` and test it below. You should see relative error less than 1e-4."
      ],
      "metadata": {
        "id": "WE4HK0DcGYCX"
      }
    },
    {
      "cell_type": "code",
      "source": [
        "from cs231n.transformer_layers import PatchEmbedding\n",
        "\n",
        "torch.manual_seed(231)\n",
        "np.random.seed(231)\n",
        "\n",
        "N = 2\n",
        "HW = 16\n",
        "PS = 8\n",
        "D = 8\n",
        "\n",
        "patch_embedding = PatchEmbedding(\n",
        "    img_size=HW,\n",
        "    patch_size=PS,\n",
        "    embed_dim=D\n",
        ")\n",
        "\n",
        "x = torch.randn(N, 3, HW, HW)\n",
        "output = patch_embedding(x)\n",
        "\n",
        "\n",
        "expected_output = np.asarray([\n",
        "        [[-0.6312704 ,  0.02531429,  0.6112642 , -0.49089882,\n",
        "          0.01412961, -0.6959372 , -0.32862484, -0.45402682],\n",
        "        [ 0.18816411, -0.08142513, -0.9829535 , -0.23975623,\n",
        "         -0.23109074,  0.97950286, -0.40997326,  0.7457837 ],\n",
        "        [ 0.01810865,  0.15780598, -0.91804236,  0.36185235,\n",
        "          0.8379501 ,  1.0191797 , -0.29667392,  0.20322265],\n",
        "        [-0.18697818, -0.45137224, -0.40339014, -1.4381214 ,\n",
        "         -0.43450755,  0.7651071 , -0.83683825, -0.16360264]],\n",
        "\n",
        "       [[-0.39786366,  0.16201034, -0.19008337, -1.0602452 ,\n",
        "         -0.28693503,  0.09791763,  0.26614824,  0.41781986],\n",
        "        [ 0.35146567, -0.4469593 , -0.1841726 ,  0.45757473,\n",
        "         -0.61304873, -0.29104248, -0.16124889, -0.14987172],\n",
        "        [-0.2996967 ,  0.27353522, -0.09929767,  0.01973832,\n",
        "         -1.2312065 , -0.6374332 , -0.22963578,  0.55696607],\n",
        "        [-0.93818814,  0.02465284, -0.21117875,  1.1860403 ,\n",
        "         -0.06137538, -0.21062079, -0.094347  ,  0.50032747]]])\n",
        "\n",
        "print('error: ', rel_error(expected_output, output.detach().numpy()))"
      ],
      "metadata": {
        "colab": {
          "base_uri": "https://localhost:8080/"
        },
        "id": "eakxQ7XcGY8t",
        "outputId": "13c2d2d7-4193-444c-afb4-0a187221d244"
      },
      "execution_count": 11,
      "outputs": [
        {
          "output_type": "stream",
          "name": "stdout",
          "text": [
            "error:  4.900488074289221e-06\n"
          ]
        }
      ]
    },
    {
      "cell_type": "markdown",
      "source": [
        "The sequence of patch vectors is processed by transformer encoder layers, each consisting of a self-attention and a feed-forward module. Since all vectors attend to one another, attention masking is not strictly necessary. However, we still implement it for the sake of consistency.\n",
        "\n",
        "Implement `TransformerEncoderLayer` in `cs231n/transformer_layers.py` and test it below. You should see relative error less than 1e-6.\n"
      ],
      "metadata": {
        "id": "jXOYjPY5Gak4"
      }
    },
    {
      "cell_type": "code",
      "source": [
        "torch.manual_seed(231)\n",
        "np.random.seed(231)\n",
        "\n",
        "from cs231n.transformer_layers import TransformerEncoderLayer\n",
        "\n",
        "N, T, TM, D = 1, 4, 5, 12\n",
        "\n",
        "encoder_layer = TransformerEncoderLayer(D, 2, 4*D)\n",
        "x = torch.randn(N, T, D)\n",
        "x_mask = torch.randn(T, T) < 0.5\n",
        "\n",
        "output = encoder_layer(x, x_mask)\n",
        "\n",
        "expected_output = np.asarray([\n",
        "    [[-0.43529928, -0.204897, 0.45693663, -1.1355408, 1.8000772,\n",
        "      0.24467856, 0.8525885, -0.53586316, -1.5606489, -1.207276,\n",
        "      1.3986266, 0.3266182],\n",
        "     [0.06928468, 1.1030475, -0.9902548, -0.34333378, -2.1073136,\n",
        "      1.1960536, 0.16573538, -1.1772276, 1.2644588, -0.27311313,\n",
        "      0.29650143, 0.7961618],\n",
        "     [0.28310525, 0.69066685, -1.2264299, 1.0175265, -2.0517688,\n",
        "     -0.10330413, -0.5355796, -0.2696466, 0.13948536, 2.0408154,\n",
        "      0.27095756, -0.25582793],\n",
        "     [-0.58568114, 0.8019579, -0.9128079, -1.6816932, 1.1572194,\n",
        "      0.39162305, 0.58195484, 0.7043353, -1.27042, -1.1870497,\n",
        "      0.9784279, 1.0221335]]\n",
        "])\n",
        "\n",
        "print('error: ', rel_error(expected_output, output.detach().numpy()))"
      ],
      "metadata": {
        "colab": {
          "base_uri": "https://localhost:8080/"
        },
        "id": "MxGFAZUoGcNU",
        "outputId": "5ce07ec3-737e-4dfd-ca7a-0f700a047e30"
      },
      "execution_count": 12,
      "outputs": [
        {
          "output_type": "stream",
          "name": "stdout",
          "text": [
            "error:  3.576601337021372e-08\n"
          ]
        }
      ]
    },
    {
      "cell_type": "markdown",
      "source": [
        "Take a look at the `VisionTransformer` implementation in `cs231n/classifiers/transformer.py`.\n",
        "\n",
        "For classification, ViT divides the input image into patches and processes the sequence of patch vectors using a transformer. Finally, all the patch vectors are average-pooled and used to predict the image class. We will use the same 1D sinusoidal positional encoding to inject ordering information, though 2D sinusoidal and learned positional encodings are also valid choices.\n",
        "\n",
        "Complete the ViT forward pass and test it below. You should see relative error less than 1e-6."
      ],
      "metadata": {
        "id": "BfBa4ICDGdwd"
      }
    },
    {
      "cell_type": "code",
      "source": [
        "torch.manual_seed(231)\n",
        "np.random.seed(231)\n",
        "from cs231n.classifiers.transformer import VisionTransformer\n",
        "\n",
        "imgs = torch.randn(3, 3, 32, 32)\n",
        "transformer = VisionTransformer()\n",
        "scores = transformer(imgs)\n",
        "expected_scores = np.asarray(\n",
        "    [[-0.13013132,  0.13652277, -0.04656096, -0.16443546, -0.08946665,\n",
        "        -0.10123537,  0.11047452,  0.01317241,  0.17256221,  0.16230097],\n",
        "       [-0.11988413,  0.20006064, -0.04028708, -0.06937674, -0.07828291,\n",
        "        -0.13545093,  0.18698244,  0.01878054,  0.14309685,  0.03245382],\n",
        "       [-0.11540816,  0.21416159, -0.07740889, -0.08336161, -0.1645808 ,\n",
        "        -0.12318538,  0.18035144,  0.05492767,  0.15997584,  0.12134959]])\n",
        "print('scores error: ', rel_error(expected_scores, scores.detach().numpy()))"
      ],
      "metadata": {
        "colab": {
          "base_uri": "https://localhost:8080/"
        },
        "id": "My0fdzgnGezR",
        "outputId": "d764daa9-f071-44c6-bfe4-d2063c63f08f"
      },
      "execution_count": 13,
      "outputs": [
        {
          "output_type": "stream",
          "name": "stdout",
          "text": [
            "scores error:  4.608344406403628e-07\n"
          ]
        }
      ]
    },
    {
      "cell_type": "markdown",
      "source": [
        "\n",
        "We will first verify our implementation by overfitting it on one training batch."
      ],
      "metadata": {
        "id": "Rpl6hRSBGgF5"
      }
    },
    {
      "cell_type": "code",
      "source": [
        "from torchvision import transforms\n",
        "from torchvision.datasets import CIFAR10\n",
        "from tqdm.auto import tqdm\n",
        "from torch.utils.data import DataLoader\n",
        "\n",
        "train_data = CIFAR10(root='data', train=True, transform=transforms.ToTensor(), download=True)\n",
        "test_data = CIFAR10(root='data', train=False, transform=transforms.ToTensor(), download=True)"
      ],
      "metadata": {
        "id": "YvFNZat-GhbC"
      },
      "execution_count": 14,
      "outputs": []
    },
    {
      "cell_type": "code",
      "source": [
        "\n",
        "learning_rate = 5e-4  # Experiment with this\n",
        "weight_decay = 1e-4  # Experiment with this\n",
        "\n",
        "\n",
        "batch = next(iter(DataLoader(train_data, batch_size=64, shuffle=False)))\n",
        "model = VisionTransformer(dropout=0.0)\n",
        "loss_criterion = torch.nn.CrossEntropyLoss()\n",
        "optimizer = torch.optim.Adam(model.parameters(), lr=learning_rate, weight_decay=weight_decay)\n",
        "model.train()\n",
        "\n",
        "epochs = 100\n",
        "for epoch in range(epochs):\n",
        "    imgs, target = batch\n",
        "    out = model(imgs)\n",
        "    loss = loss_criterion(out, target)\n",
        "\n",
        "    optimizer.zero_grad()\n",
        "    loss.backward()\n",
        "    optimizer.step()\n",
        "\n",
        "    top1 = (out.argmax(-1) == target).float().mean().item()\n",
        "    if epoch % 10 == 0:\n",
        "      print(f\"[{epoch}/{epochs}] Loss {loss.item():.6f}, Top-1 Accuracy: {top1:.3f}\")\n"
      ],
      "metadata": {
        "colab": {
          "base_uri": "https://localhost:8080/"
        },
        "id": "D8_2P4LCGiJt",
        "outputId": "d6ae8d40-6325-4ee6-eee9-3eb98373379b"
      },
      "execution_count": 15,
      "outputs": [
        {
          "output_type": "stream",
          "name": "stdout",
          "text": [
            "[0/100] Loss 2.330371, Top-1 Accuracy: 0.078\n",
            "[10/100] Loss 2.168979, Top-1 Accuracy: 0.188\n",
            "[20/100] Loss 2.047866, Top-1 Accuracy: 0.234\n",
            "[30/100] Loss 1.905376, Top-1 Accuracy: 0.297\n",
            "[40/100] Loss 1.783959, Top-1 Accuracy: 0.281\n",
            "[50/100] Loss 1.704256, Top-1 Accuracy: 0.328\n",
            "[60/100] Loss 1.361978, Top-1 Accuracy: 0.484\n",
            "[70/100] Loss 0.993582, Top-1 Accuracy: 0.688\n",
            "[80/100] Loss 0.753738, Top-1 Accuracy: 0.828\n",
            "[90/100] Loss 0.434923, Top-1 Accuracy: 0.906\n"
          ]
        }
      ]
    },
    {
      "cell_type": "code",
      "source": [
        "# You should get perfect 1.00 accuracy\n",
        "print(f\"Overfitting ViT on one batch. Top-1 accuracy: {top1}\")"
      ],
      "metadata": {
        "colab": {
          "base_uri": "https://localhost:8080/"
        },
        "id": "GHrgqcW5Gjd3",
        "outputId": "bcf1532c-3a0e-45e1-cee2-31ac7c5a1844"
      },
      "execution_count": 16,
      "outputs": [
        {
          "output_type": "stream",
          "name": "stdout",
          "text": [
            "Overfitting ViT on one batch. Top-1 accuracy: 0.984375\n"
          ]
        }
      ]
    },
    {
      "cell_type": "markdown",
      "source": [
        "Now we will train it on the entire dataset."
      ],
      "metadata": {
        "id": "0RBacsvEGkxy"
      }
    },
    {
      "cell_type": "code",
      "source": [
        "from cs231n.classification_solver_vit import ClassificationSolverViT\n",
        "\n",
        "############################################################################\n",
        "# TODO: Train a Vision Transformer model that achieves over 0.45 test      #\n",
        "# accuracy on CIFAR-10 after 2 epochs by adjusting the model architecture  #\n",
        "# and/or training parameters as needed.                                    #\n",
        "#                                                                          #\n",
        "# Note: If you want to use a GPU runtime, go to `Runtime > Change runtime  #\n",
        "# type` and set `Hardware accelerator` to `GPU`. This will reset Colab,    #\n",
        "# so make sure to rerun the entire notebook from the beginning afterward.  #\n",
        "############################################################################\n",
        "\n",
        "\n",
        "learning_rate = 6e-4\n",
        "weight_decay = 1e-4\n",
        "batch_size = 64\n",
        "\n",
        "model = VisionTransformer(\n",
        "  img_size=32,\n",
        "  patch_size=8,\n",
        "  in_channels=3,\n",
        "  embed_dim=128,\n",
        "  num_layers=6,\n",
        "  num_heads=4,\n",
        "  dim_feedforward=256, num_classes=10, dropout=0.1\n",
        ")  # You may want to change the default params.\n",
        "\n",
        "\n",
        "\n",
        "################################################################################\n",
        "#                                 END OF YOUR CODE                             #\n",
        "################################################################################\n",
        "\n",
        "solver = ClassificationSolverViT(\n",
        "    train_data=train_data,\n",
        "    test_data=test_data,\n",
        "    model=model,\n",
        "    num_epochs = 2,  # Don't change this\n",
        "    learning_rate = learning_rate,\n",
        "    weight_decay = weight_decay,\n",
        "    batch_size = batch_size,\n",
        ")\n",
        "\n",
        "solver.train('cuda' if torch.cuda.is_available() else 'cpu')\n",
        "\n"
      ],
      "metadata": {
        "colab": {
          "base_uri": "https://localhost:8080/",
          "height": 145,
          "referenced_widgets": [
            "8b3b49c50bae46a69b199fe9d4125e1f",
            "0d4a4b6be21a4cc7a4ae554aa735fc7e",
            "4bb1ce187ed2471d8235fb117b5cce7b",
            "f2c7e243ad9d4e6ba85b5e5bf3527f2f",
            "b317b0e2fcd945a5b30c0fd4abff8636",
            "5157c276d27c4965aef3aaf6429947f6",
            "82c1a1a2f8be4043907aaa5cd2e7d1e0",
            "53bc9f05ca664d4690ad73c9eca064e9",
            "bc7b0d381a5849d6bc1f81a501aaa2ab",
            "ea7f86f1d6c14498a531dd01699dd763",
            "dc13cb370ce04fd0b9f3fb98fb7e0c84",
            "3612437e96534703953bbfb7d68c69b8",
            "a5340cbe2127492ebe3ca3cbcf368451",
            "87fc9d9a68a14010806ae46a4bad1b75",
            "6a5d6f5ec7b1473791b28c0fc0c6d33f",
            "2367e13dccaf4bcba08e9a1b3840b46e",
            "c4e71a3a149e49c0b2dd9c15dd046184",
            "faac5be963db48a1a8df2c559d8a2b5a",
            "65a7377682d4485d93f7588373424dc6",
            "bd75ab3db6514dc4af7563fb400e99b7",
            "d5cb220fde6a4e24a6d9d418b7d098a3",
            "cf972de7bd604cb1949c3766bb7ac7e4",
            "ec8a38024e26423e92d1e2c47888080d",
            "ab1f402692f84378a80b1ab284fadc3f",
            "dbf8199c307c44a49bcc7feef38c8226",
            "385d419c3dbc4e9182a39867743f17b8",
            "fe2534ea28504708b52b049755595399",
            "713ae9a8fab04d92bc453e4107d35077",
            "87c92b0fff9d466689a1f8d397f47850",
            "5d0d9bc128d345a7ad8fb6e4047b8642",
            "99497de164c044d1a8527200ac6b3a91",
            "9da9b6e0a6d24949bb88b057dc23db96",
            "e221a6a751894a51af2dc876a494b9c0",
            "8d4b968e7335479aa8c2f338dd462b22",
            "488cb9713c474041adc7d92576f1ac46",
            "44631ce36fcb467994e7de35f5cbdeef",
            "bb5c70b621594d4182ccbe644c8a8dd1",
            "e2b82ce31b2f45d386a459e719ccf869",
            "b32913d5ab4a47ea9ae3f4f0e0c631b6",
            "694f634bbf54406dba30a62a64634a75",
            "cf06d0d67dbb468999569be6241a3516",
            "9b11c7d015a343acaf6409856fbe21ed",
            "35bea7f04c2a4ab0a0e43c73ee2a7115",
            "237395f5996c4f5aa0d8989a1a114369"
          ]
        },
        "id": "l8CaUYoqGlfd",
        "outputId": "42f53490-03c8-4835-931b-1354657d2abe"
      },
      "execution_count": 17,
      "outputs": [
        {
          "output_type": "display_data",
          "data": {
            "text/plain": [
              "  0%|          | 0/782 [00:00<?, ?it/s]"
            ],
            "application/vnd.jupyter.widget-view+json": {
              "version_major": 2,
              "version_minor": 0,
              "model_id": "8b3b49c50bae46a69b199fe9d4125e1f"
            }
          },
          "metadata": {}
        },
        {
          "output_type": "display_data",
          "data": {
            "text/plain": [
              "  0%|          | 0/157 [00:00<?, ?it/s]"
            ],
            "application/vnd.jupyter.widget-view+json": {
              "version_major": 2,
              "version_minor": 0,
              "model_id": "3612437e96534703953bbfb7d68c69b8"
            }
          },
          "metadata": {}
        },
        {
          "output_type": "display_data",
          "data": {
            "text/plain": [
              "  0%|          | 0/782 [00:00<?, ?it/s]"
            ],
            "application/vnd.jupyter.widget-view+json": {
              "version_major": 2,
              "version_minor": 0,
              "model_id": "ec8a38024e26423e92d1e2c47888080d"
            }
          },
          "metadata": {}
        },
        {
          "output_type": "display_data",
          "data": {
            "text/plain": [
              "  0%|          | 0/157 [00:00<?, ?it/s]"
            ],
            "application/vnd.jupyter.widget-view+json": {
              "version_major": 2,
              "version_minor": 0,
              "model_id": "8d4b968e7335479aa8c2f338dd462b22"
            }
          },
          "metadata": {}
        }
      ]
    },
    {
      "cell_type": "code",
      "source": [
        "print(f\"Accuracy on test set: {solver.results['best_test_acc']}\")"
      ],
      "metadata": {
        "colab": {
          "base_uri": "https://localhost:8080/"
        },
        "id": "BSX9LoCmGmwq",
        "outputId": "41db1109-9f6f-4130-adc5-541003adb8c0"
      },
      "execution_count": 18,
      "outputs": [
        {
          "output_type": "stream",
          "name": "stdout",
          "text": [
            "Accuracy on test set: 0.4554\n"
          ]
        }
      ]
    },
    {
      "cell_type": "markdown",
      "source": [
        "# Inline Question 2\n",
        "\n",
        "Despite their recent success in large-scale image recognition tasks, ViTs often lag behind traditional CNNs when trained on smaller datasets. What underlying factor contribute to this performance gap? What techniques can be used to improve the performance of ViTs on small datasets?\n",
        "\n",
        "**Your Answer**:\n",
        "The Vision Transformer (ViT) has a fundamentally different structure from CNNs, lacking the inductive biases that CNNs rely on for learning. Instead, ViT is a more flexible model in terms of representation. This means that ViT has no prior knowledge about \"which features are important,\" and must learn all relevant information directly from the data. As a result, if a sufficient amount of training data is not available, ViT can be more difficult to train and more prone to overfitting compared to CNNs.\n",
        "\n",
        "Furthermore, Transformer-based architectures typically have far more parameters than CNNs, which increases their need for large datasets to achieve stable and effective training.\n",
        "\n",
        "There are several ways to improve the performance of ViTs on small datasets. One fundamental approach is data augmentation. By applying various augmentation techniques—such as random cropping, flipping, rotation, and color jitter—to the available data, we can increase data diversity and improve generalization. Alternatively, a pretrained ViT model can be used. For instance, a ViT that has been trained on a large-scale dataset like ImageNet can be fine-tuned on a smaller dataset to achieve better performance.\n"
      ],
      "metadata": {
        "id": "Fr8_yhM_GoC7"
      }
    },
    {
      "cell_type": "markdown",
      "source": [
        "# Inline Question 3\n",
        "\n",
        "How does the computational cost of the self-attention layers in a ViT change if we independently make the following changes?\n",
        "\n",
        "(i) Double the hidden dimension.\n",
        "(ii) Double the height and width of the input image.\n",
        "(iii) Double the patch size.\n",
        "(iv) Double the number of layers.\n",
        "\n",
        "**Your Answer**:\n",
        "\n",
        "Computational Cost Changes in ViT Self-Attention\n",
        "In Vision Transformers (ViT), the input image is divided into patches, each of which is embedded and passed through the self-attention module.\n",
        "The computational complexity of self-attention is given by: Complexity = 𝑂(𝑁^2⋅𝐷)\n",
        "- 𝑁: number of patches\n",
        "- 𝐷: hidden dimension (embedding size) <br> <br>\n",
        "\n",
        "**(i) Double the hidden dimension.** <br>\n",
        "- D → 2D ⇒ O(N^2 ⋅2D) <br>\n",
        "Computational cost increases by a factor of 2 <br> <br>\n",
        "\n",
        "**(ii) Double the height and width of the input image.** <br>\n",
        "- Image size: 𝐻 × 𝑊 → 2𝐻 × 2𝑊\n",
        "- With fixed patch size, number of patches increases: 𝑁 → 4𝑁 <br>\n",
        "𝑂(𝑁^2⋅𝐷) → 𝑂((4𝑁)^2⋅𝐷)=𝑂(16𝑁^2⋅𝐷) <br>\n",
        "Computational cost increases by a factor of 16 <br> <br>\n",
        "\n",
        "**(iii) Double the patch size.** <br>\n",
        "- Image size remains fixed\n",
        "- Patch size: 𝑃 × 𝑃 → 2𝑃 × 2𝑃\n",
        "- Number of patches decreases: 𝑁 → 𝑁/4 <br>\n",
        "𝑂(𝑁^2⋅𝐷) → 𝑂((𝑁/4)^2⋅𝐷)=𝑂((𝑁^2)/16⋅𝐷) <br>\n",
        "Computational cost decreases by a factor of 16 <br> <br>\n",
        "\n",
        "**(iv) Double the number of layers.** <br>\n",
        "- Number of layers: 𝐿 → 2𝐿 <br>\n",
        "Since self-attention is computed per layer, Computational cost increases by a factor of 2\n"
      ],
      "metadata": {
        "id": "snPsMMX3GpY2"
      }
    }
  ]
}
